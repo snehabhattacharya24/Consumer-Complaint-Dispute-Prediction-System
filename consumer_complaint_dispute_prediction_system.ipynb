{
 "cells": [
  {
   "cell_type": "code",
   "execution_count": 107,
   "id": "e8d55f62-5233-46f0-a5d7-d7cba987e76e",
   "metadata": {},
   "outputs": [],
   "source": [
    "import numpy as np\n",
    "import pandas as pd\n",
    "import matplotlib.pyplot as plt\n",
    "import seaborn as sns\n",
    "import warnings\n",
    "warnings.simplefilter('ignore')"
   ]
  },
  {
   "attachments": {},
   "cell_type": "markdown",
   "id": "0d14895f-bfcd-4d48-a141-f94311abd7d6",
   "metadata": {},
   "source": [
    "#### Loading Data from https://www.consumerfinance.gov/data-research/consumer-complaints/#download-the-data"
   ]
  },
  {
   "cell_type": "code",
   "execution_count": 108,
   "id": "1bfbfd6f-37c9-4511-99fb-a2400cff4de5",
   "metadata": {},
   "outputs": [
    {
     "data": {
      "text/html": [
       "<div>\n",
       "<style scoped>\n",
       "    .dataframe tbody tr th:only-of-type {\n",
       "        vertical-align: middle;\n",
       "    }\n",
       "\n",
       "    .dataframe tbody tr th {\n",
       "        vertical-align: top;\n",
       "    }\n",
       "\n",
       "    .dataframe thead th {\n",
       "        text-align: right;\n",
       "    }\n",
       "</style>\n",
       "<table border=\"1\" class=\"dataframe\">\n",
       "  <thead>\n",
       "    <tr style=\"text-align: right;\">\n",
       "      <th></th>\n",
       "      <th>Date received</th>\n",
       "      <th>Product</th>\n",
       "      <th>Sub-product</th>\n",
       "      <th>Issue</th>\n",
       "      <th>Sub-issue</th>\n",
       "      <th>Consumer complaint narrative</th>\n",
       "      <th>Company public response</th>\n",
       "      <th>Company</th>\n",
       "      <th>State</th>\n",
       "      <th>ZIP code</th>\n",
       "      <th>Tags</th>\n",
       "      <th>Consumer consent provided?</th>\n",
       "      <th>Submitted via</th>\n",
       "      <th>Date sent to company</th>\n",
       "      <th>Company response to consumer</th>\n",
       "      <th>Timely response?</th>\n",
       "      <th>Consumer disputed?</th>\n",
       "      <th>Complaint ID</th>\n",
       "    </tr>\n",
       "  </thead>\n",
       "  <tbody>\n",
       "    <tr>\n",
       "      <th>0</th>\n",
       "      <td>2013-06-04</td>\n",
       "      <td>Mortgage</td>\n",
       "      <td>Conventional fixed mortgage</td>\n",
       "      <td>Loan modification,collection,foreclosure</td>\n",
       "      <td>NaN</td>\n",
       "      <td>NaN</td>\n",
       "      <td>NaN</td>\n",
       "      <td>WELLS FARGO &amp; COMPANY</td>\n",
       "      <td>MO</td>\n",
       "      <td>64834.0</td>\n",
       "      <td>NaN</td>\n",
       "      <td>NaN</td>\n",
       "      <td>Web</td>\n",
       "      <td>2013-06-05</td>\n",
       "      <td>Closed with explanation</td>\n",
       "      <td>Yes</td>\n",
       "      <td>Yes</td>\n",
       "      <td>423759</td>\n",
       "    </tr>\n",
       "    <tr>\n",
       "      <th>1</th>\n",
       "      <td>2016-12-27</td>\n",
       "      <td>Bank account or service</td>\n",
       "      <td>Checking account</td>\n",
       "      <td>Account opening, closing, or management</td>\n",
       "      <td>NaN</td>\n",
       "      <td>I had a checking account with US Bank that I r...</td>\n",
       "      <td>Company has responded to the consumer and the ...</td>\n",
       "      <td>U.S. BANCORP</td>\n",
       "      <td>NV</td>\n",
       "      <td>89139.0</td>\n",
       "      <td>NaN</td>\n",
       "      <td>Consent provided</td>\n",
       "      <td>Web</td>\n",
       "      <td>2016-12-27</td>\n",
       "      <td>Closed with monetary relief</td>\n",
       "      <td>Yes</td>\n",
       "      <td>No</td>\n",
       "      <td>2264736</td>\n",
       "    </tr>\n",
       "    <tr>\n",
       "      <th>2</th>\n",
       "      <td>2016-09-27</td>\n",
       "      <td>Bank account or service</td>\n",
       "      <td>Checking account</td>\n",
       "      <td>Problems caused by my funds being low</td>\n",
       "      <td>NaN</td>\n",
       "      <td>I have a checking and savings account with Wel...</td>\n",
       "      <td>Company has responded to the consumer and the ...</td>\n",
       "      <td>WELLS FARGO &amp; COMPANY</td>\n",
       "      <td>NJ</td>\n",
       "      <td>8098.0</td>\n",
       "      <td>NaN</td>\n",
       "      <td>Consent provided</td>\n",
       "      <td>Web</td>\n",
       "      <td>2016-09-27</td>\n",
       "      <td>Closed with explanation</td>\n",
       "      <td>No</td>\n",
       "      <td>No</td>\n",
       "      <td>2133127</td>\n",
       "    </tr>\n",
       "    <tr>\n",
       "      <th>3</th>\n",
       "      <td>2016-02-02</td>\n",
       "      <td>Credit card</td>\n",
       "      <td>NaN</td>\n",
       "      <td>Customer service / Customer relations</td>\n",
       "      <td>NaN</td>\n",
       "      <td>I recently received an email from Bank of Amer...</td>\n",
       "      <td>Company chooses not to provide a public response</td>\n",
       "      <td>BANK OF AMERICA, NATIONAL ASSOCIATION</td>\n",
       "      <td>NJ</td>\n",
       "      <td>7901.0</td>\n",
       "      <td>Older American</td>\n",
       "      <td>Consent provided</td>\n",
       "      <td>Web</td>\n",
       "      <td>2016-02-02</td>\n",
       "      <td>Closed with explanation</td>\n",
       "      <td>Yes</td>\n",
       "      <td>Yes</td>\n",
       "      <td>1768930</td>\n",
       "    </tr>\n",
       "    <tr>\n",
       "      <th>4</th>\n",
       "      <td>2015-11-30</td>\n",
       "      <td>Mortgage</td>\n",
       "      <td>FHA mortgage</td>\n",
       "      <td>Loan modification,collection,foreclosure</td>\n",
       "      <td>NaN</td>\n",
       "      <td>My brother XXXX XXXX XXXX is XXXX from a XXXX ...</td>\n",
       "      <td>Company chooses not to provide a public response</td>\n",
       "      <td>WELLS FARGO &amp; COMPANY</td>\n",
       "      <td>CO</td>\n",
       "      <td>80127.0</td>\n",
       "      <td>NaN</td>\n",
       "      <td>Consent provided</td>\n",
       "      <td>Web</td>\n",
       "      <td>2015-11-30</td>\n",
       "      <td>Closed with explanation</td>\n",
       "      <td>Yes</td>\n",
       "      <td>No</td>\n",
       "      <td>1676226</td>\n",
       "    </tr>\n",
       "    <tr>\n",
       "      <th>...</th>\n",
       "      <td>...</td>\n",
       "      <td>...</td>\n",
       "      <td>...</td>\n",
       "      <td>...</td>\n",
       "      <td>...</td>\n",
       "      <td>...</td>\n",
       "      <td>...</td>\n",
       "      <td>...</td>\n",
       "      <td>...</td>\n",
       "      <td>...</td>\n",
       "      <td>...</td>\n",
       "      <td>...</td>\n",
       "      <td>...</td>\n",
       "      <td>...</td>\n",
       "      <td>...</td>\n",
       "      <td>...</td>\n",
       "      <td>...</td>\n",
       "      <td>...</td>\n",
       "    </tr>\n",
       "    <tr>\n",
       "      <th>209425</th>\n",
       "      <td>2015-05-24</td>\n",
       "      <td>Debt collection</td>\n",
       "      <td>Credit card</td>\n",
       "      <td>Taking/threatening an illegal action</td>\n",
       "      <td>Sued w/o proper notification of suit</td>\n",
       "      <td>NaN</td>\n",
       "      <td>NaN</td>\n",
       "      <td>JPMORGAN CHASE &amp; CO.</td>\n",
       "      <td>FL</td>\n",
       "      <td>33133.0</td>\n",
       "      <td>NaN</td>\n",
       "      <td>Consent not provided</td>\n",
       "      <td>Web</td>\n",
       "      <td>2015-05-24</td>\n",
       "      <td>Closed with explanation</td>\n",
       "      <td>Yes</td>\n",
       "      <td>No</td>\n",
       "      <td>1390395</td>\n",
       "    </tr>\n",
       "    <tr>\n",
       "      <th>209426</th>\n",
       "      <td>2012-01-10</td>\n",
       "      <td>Mortgage</td>\n",
       "      <td>Conventional fixed mortgage</td>\n",
       "      <td>Loan modification,collection,foreclosure</td>\n",
       "      <td>NaN</td>\n",
       "      <td>NaN</td>\n",
       "      <td>NaN</td>\n",
       "      <td>JPMORGAN CHASE &amp; CO.</td>\n",
       "      <td>NY</td>\n",
       "      <td>10312.0</td>\n",
       "      <td>NaN</td>\n",
       "      <td>NaN</td>\n",
       "      <td>Referral</td>\n",
       "      <td>2012-01-11</td>\n",
       "      <td>Closed without relief</td>\n",
       "      <td>Yes</td>\n",
       "      <td>Yes</td>\n",
       "      <td>12192</td>\n",
       "    </tr>\n",
       "    <tr>\n",
       "      <th>209427</th>\n",
       "      <td>2012-07-17</td>\n",
       "      <td>Student loan</td>\n",
       "      <td>Non-federal student loan</td>\n",
       "      <td>Repaying your loan</td>\n",
       "      <td>NaN</td>\n",
       "      <td>NaN</td>\n",
       "      <td>NaN</td>\n",
       "      <td>BANK OF AMERICA, NATIONAL ASSOCIATION</td>\n",
       "      <td>NH</td>\n",
       "      <td>3260.0</td>\n",
       "      <td>NaN</td>\n",
       "      <td>NaN</td>\n",
       "      <td>Web</td>\n",
       "      <td>2012-07-18</td>\n",
       "      <td>Closed with explanation</td>\n",
       "      <td>Yes</td>\n",
       "      <td>No</td>\n",
       "      <td>118351</td>\n",
       "    </tr>\n",
       "    <tr>\n",
       "      <th>209428</th>\n",
       "      <td>2016-09-29</td>\n",
       "      <td>Bank account or service</td>\n",
       "      <td>Checking account</td>\n",
       "      <td>Account opening, closing, or management</td>\n",
       "      <td>NaN</td>\n",
       "      <td>Near the end of XXXX 2016 I opened a Citigold ...</td>\n",
       "      <td>Company has responded to the consumer and the ...</td>\n",
       "      <td>CITIBANK, N.A.</td>\n",
       "      <td>CA</td>\n",
       "      <td>90049.0</td>\n",
       "      <td>NaN</td>\n",
       "      <td>Consent provided</td>\n",
       "      <td>Web</td>\n",
       "      <td>2016-09-29</td>\n",
       "      <td>Closed with non-monetary relief</td>\n",
       "      <td>Yes</td>\n",
       "      <td>No</td>\n",
       "      <td>2138969</td>\n",
       "    </tr>\n",
       "    <tr>\n",
       "      <th>209429</th>\n",
       "      <td>2015-04-29</td>\n",
       "      <td>Mortgage</td>\n",
       "      <td>Conventional fixed mortgage</td>\n",
       "      <td>Loan modification,collection,foreclosure</td>\n",
       "      <td>NaN</td>\n",
       "      <td>My father died in XX/XX/XXXX. Left me his only...</td>\n",
       "      <td>NaN</td>\n",
       "      <td>CITIBANK, N.A.</td>\n",
       "      <td>OK</td>\n",
       "      <td>74066.0</td>\n",
       "      <td>NaN</td>\n",
       "      <td>Consent provided</td>\n",
       "      <td>Web</td>\n",
       "      <td>2015-04-29</td>\n",
       "      <td>Closed with explanation</td>\n",
       "      <td>Yes</td>\n",
       "      <td>No</td>\n",
       "      <td>1352738</td>\n",
       "    </tr>\n",
       "  </tbody>\n",
       "</table>\n",
       "<p>209430 rows × 18 columns</p>\n",
       "</div>"
      ],
      "text/plain": [
       "       Date received                  Product                  Sub-product  \\\n",
       "0         2013-06-04                 Mortgage  Conventional fixed mortgage   \n",
       "1         2016-12-27  Bank account or service             Checking account   \n",
       "2         2016-09-27  Bank account or service             Checking account   \n",
       "3         2016-02-02              Credit card                          NaN   \n",
       "4         2015-11-30                 Mortgage                 FHA mortgage   \n",
       "...              ...                      ...                          ...   \n",
       "209425    2015-05-24          Debt collection                  Credit card   \n",
       "209426    2012-01-10                 Mortgage  Conventional fixed mortgage   \n",
       "209427    2012-07-17             Student loan     Non-federal student loan   \n",
       "209428    2016-09-29  Bank account or service             Checking account   \n",
       "209429    2015-04-29                 Mortgage  Conventional fixed mortgage   \n",
       "\n",
       "                                           Issue  \\\n",
       "0       Loan modification,collection,foreclosure   \n",
       "1        Account opening, closing, or management   \n",
       "2          Problems caused by my funds being low   \n",
       "3          Customer service / Customer relations   \n",
       "4       Loan modification,collection,foreclosure   \n",
       "...                                          ...   \n",
       "209425      Taking/threatening an illegal action   \n",
       "209426  Loan modification,collection,foreclosure   \n",
       "209427                        Repaying your loan   \n",
       "209428   Account opening, closing, or management   \n",
       "209429  Loan modification,collection,foreclosure   \n",
       "\n",
       "                                   Sub-issue  \\\n",
       "0                                        NaN   \n",
       "1                                        NaN   \n",
       "2                                        NaN   \n",
       "3                                        NaN   \n",
       "4                                        NaN   \n",
       "...                                      ...   \n",
       "209425  Sued w/o proper notification of suit   \n",
       "209426                                   NaN   \n",
       "209427                                   NaN   \n",
       "209428                                   NaN   \n",
       "209429                                   NaN   \n",
       "\n",
       "                             Consumer complaint narrative  \\\n",
       "0                                                     NaN   \n",
       "1       I had a checking account with US Bank that I r...   \n",
       "2       I have a checking and savings account with Wel...   \n",
       "3       I recently received an email from Bank of Amer...   \n",
       "4       My brother XXXX XXXX XXXX is XXXX from a XXXX ...   \n",
       "...                                                   ...   \n",
       "209425                                                NaN   \n",
       "209426                                                NaN   \n",
       "209427                                                NaN   \n",
       "209428  Near the end of XXXX 2016 I opened a Citigold ...   \n",
       "209429  My father died in XX/XX/XXXX. Left me his only...   \n",
       "\n",
       "                                  Company public response  \\\n",
       "0                                                     NaN   \n",
       "1       Company has responded to the consumer and the ...   \n",
       "2       Company has responded to the consumer and the ...   \n",
       "3        Company chooses not to provide a public response   \n",
       "4        Company chooses not to provide a public response   \n",
       "...                                                   ...   \n",
       "209425                                                NaN   \n",
       "209426                                                NaN   \n",
       "209427                                                NaN   \n",
       "209428  Company has responded to the consumer and the ...   \n",
       "209429                                                NaN   \n",
       "\n",
       "                                      Company State ZIP code            Tags  \\\n",
       "0                       WELLS FARGO & COMPANY    MO  64834.0             NaN   \n",
       "1                                U.S. BANCORP    NV  89139.0             NaN   \n",
       "2                       WELLS FARGO & COMPANY    NJ   8098.0             NaN   \n",
       "3       BANK OF AMERICA, NATIONAL ASSOCIATION    NJ   7901.0  Older American   \n",
       "4                       WELLS FARGO & COMPANY    CO  80127.0             NaN   \n",
       "...                                       ...   ...      ...             ...   \n",
       "209425                   JPMORGAN CHASE & CO.    FL  33133.0             NaN   \n",
       "209426                   JPMORGAN CHASE & CO.    NY  10312.0             NaN   \n",
       "209427  BANK OF AMERICA, NATIONAL ASSOCIATION    NH   3260.0             NaN   \n",
       "209428                         CITIBANK, N.A.    CA  90049.0             NaN   \n",
       "209429                         CITIBANK, N.A.    OK  74066.0             NaN   \n",
       "\n",
       "       Consumer consent provided? Submitted via Date sent to company  \\\n",
       "0                             NaN           Web           2013-06-05   \n",
       "1                Consent provided           Web           2016-12-27   \n",
       "2                Consent provided           Web           2016-09-27   \n",
       "3                Consent provided           Web           2016-02-02   \n",
       "4                Consent provided           Web           2015-11-30   \n",
       "...                           ...           ...                  ...   \n",
       "209425       Consent not provided           Web           2015-05-24   \n",
       "209426                        NaN      Referral           2012-01-11   \n",
       "209427                        NaN           Web           2012-07-18   \n",
       "209428           Consent provided           Web           2016-09-29   \n",
       "209429           Consent provided           Web           2015-04-29   \n",
       "\n",
       "           Company response to consumer Timely response? Consumer disputed?  \\\n",
       "0               Closed with explanation              Yes                Yes   \n",
       "1           Closed with monetary relief              Yes                 No   \n",
       "2               Closed with explanation               No                 No   \n",
       "3               Closed with explanation              Yes                Yes   \n",
       "4               Closed with explanation              Yes                 No   \n",
       "...                                 ...              ...                ...   \n",
       "209425          Closed with explanation              Yes                 No   \n",
       "209426            Closed without relief              Yes                Yes   \n",
       "209427          Closed with explanation              Yes                 No   \n",
       "209428  Closed with non-monetary relief              Yes                 No   \n",
       "209429          Closed with explanation              Yes                 No   \n",
       "\n",
       "        Complaint ID  \n",
       "0             423759  \n",
       "1            2264736  \n",
       "2            2133127  \n",
       "3            1768930  \n",
       "4            1676226  \n",
       "...              ...  \n",
       "209425       1390395  \n",
       "209426         12192  \n",
       "209427        118351  \n",
       "209428       2138969  \n",
       "209429       1352738  \n",
       "\n",
       "[209430 rows x 18 columns]"
      ]
     },
     "execution_count": 108,
     "metadata": {},
     "output_type": "execute_result"
    }
   ],
   "source": [
    "df = pd.read_csv('complaints.csv')\n",
    "df"
   ]
  },
  {
   "attachments": {},
   "cell_type": "markdown",
   "id": "eb46e2dc-e8eb-4e0a-b7a4-9beda8dcff53",
   "metadata": {},
   "source": [
    "### Exploratory Data Analysis"
   ]
  },
  {
   "cell_type": "code",
   "execution_count": 109,
   "id": "d30958c1-be19-418f-aa01-6211661b92d9",
   "metadata": {},
   "outputs": [
    {
     "name": "stdout",
     "output_type": "stream",
     "text": [
      "------------------------------------------------------\n",
      "Shape: \n",
      "(209430, 18)\n",
      "------------------------------------------------------\n",
      "Column Names: \n",
      "Index(['Date received', 'Product', 'Sub-product', 'Issue', 'Sub-issue',\n",
      "       'Consumer complaint narrative', 'Company public response', 'Company',\n",
      "       'State', 'ZIP code', 'Tags', 'Consumer consent provided?',\n",
      "       'Submitted via', 'Date sent to company', 'Company response to consumer',\n",
      "       'Timely response?', 'Consumer disputed?', 'Complaint ID'],\n",
      "      dtype='object')\n",
      "------------------------------------------------------\n",
      "Data Types, Missing Data, Memory: \n",
      "<class 'pandas.core.frame.DataFrame'>\n",
      "RangeIndex: 209430 entries, 0 to 209429\n",
      "Data columns (total 18 columns):\n",
      " #   Column                        Non-Null Count   Dtype \n",
      "---  ------                        --------------   ----- \n",
      " 0   Date received                 209430 non-null  object\n",
      " 1   Product                       209430 non-null  object\n",
      " 2   Sub-product                   165753 non-null  object\n",
      " 3   Issue                         209430 non-null  object\n",
      " 4   Sub-issue                     10553 non-null   object\n",
      " 5   Consumer complaint narrative  30235 non-null   object\n",
      " 6   Company public response       60147 non-null   object\n",
      " 7   Company                       209430 non-null  object\n",
      " 8   State                         207206 non-null  object\n",
      " 9   ZIP code                      207210 non-null  object\n",
      " 10  Tags                          28575 non-null   object\n",
      " 11  Consumer consent provided?    52764 non-null   object\n",
      " 12  Submitted via                 209430 non-null  object\n",
      " 13  Date sent to company          209430 non-null  object\n",
      " 14  Company response to consumer  209430 non-null  object\n",
      " 15  Timely response?              209430 non-null  object\n",
      " 16  Consumer disputed?            209430 non-null  object\n",
      " 17  Complaint ID                  209430 non-null  int64 \n",
      "dtypes: int64(1), object(17)\n",
      "memory usage: 28.8+ MB\n",
      "None\n",
      "------------------------------------------------------\n"
     ]
    }
   ],
   "source": [
    "linebreak = '------------------' \n",
    "\n",
    "#Check Shape\n",
    "print(linebreak*3)\n",
    "print(\"Shape: \")\n",
    "print(df.shape)\n",
    "print(linebreak*3)\n",
    "    \n",
    "#Check Feature Names\n",
    "print(\"Column Names: \")\n",
    "print(df.columns)\n",
    "print(linebreak*3)\n",
    "    \n",
    "#Check types, missing, memory\n",
    "print(\"Data Types, Missing Data, Memory: \")\n",
    "print(df.info())\n",
    "print(linebreak*3)"
   ]
  },
  {
   "cell_type": "code",
   "execution_count": 110,
   "id": "367bf2a5-eb57-4b1d-bc15-8af39fbbe0f7",
   "metadata": {},
   "outputs": [
    {
     "data": {
      "text/plain": [
       "Date received                        0\n",
       "Product                              0\n",
       "Sub-product                      43677\n",
       "Issue                                0\n",
       "Sub-issue                       198877\n",
       "Consumer complaint narrative    179195\n",
       "Company public response         149283\n",
       "Company                              0\n",
       "State                             2224\n",
       "ZIP code                          2220\n",
       "Tags                            180855\n",
       "Consumer consent provided?      156666\n",
       "Submitted via                        0\n",
       "Date sent to company                 0\n",
       "Company response to consumer         0\n",
       "Timely response?                     0\n",
       "Consumer disputed?                   0\n",
       "Complaint ID                         0\n",
       "dtype: int64"
      ]
     },
     "execution_count": 110,
     "metadata": {},
     "output_type": "execute_result"
    }
   ],
   "source": [
    "#identifying the null values\n",
    "df.isna().sum()"
   ]
  },
  {
   "cell_type": "code",
   "execution_count": 111,
   "id": "74b5b8e2-81e7-458a-82a3-2469e8b0a07b",
   "metadata": {},
   "outputs": [
    {
     "data": {
      "text/plain": [
       "(209430, 18)"
      ]
     },
     "execution_count": 111,
     "metadata": {},
     "output_type": "execute_result"
    }
   ],
   "source": [
    "#to remove null values in 'Consumer disputed?'\n",
    "\n",
    "df = df.dropna(subset=['Consumer disputed?'])\n",
    "df.shape"
   ]
  },
  {
   "cell_type": "code",
   "execution_count": 112,
   "id": "fc7b0bca-be3c-41f2-aa4a-2b3e395f472f",
   "metadata": {},
   "outputs": [
    {
     "data": {
      "text/plain": [
       "BANK OF AMERICA, NATIONAL ASSOCIATION    65992\n",
       "WELLS FARGO & COMPANY                    53693\n",
       "JPMORGAN CHASE & CO.                     42630\n",
       "CITIBANK, N.A.                           34768\n",
       "U.S. BANCORP                             12347\n",
       "Name: Company, dtype: int64"
      ]
     },
     "execution_count": 112,
     "metadata": {},
     "output_type": "execute_result"
    }
   ],
   "source": [
    "df['Company'].value_counts().sort_values(ascending=False)"
   ]
  },
  {
   "cell_type": "code",
   "execution_count": 113,
   "id": "92df34ae-e9bc-423a-831d-6a7d0320cfdb",
   "metadata": {},
   "outputs": [
    {
     "data": {
      "text/html": [
       "<div>\n",
       "<style scoped>\n",
       "    .dataframe tbody tr th:only-of-type {\n",
       "        vertical-align: middle;\n",
       "    }\n",
       "\n",
       "    .dataframe tbody tr th {\n",
       "        vertical-align: top;\n",
       "    }\n",
       "\n",
       "    .dataframe thead th {\n",
       "        text-align: right;\n",
       "    }\n",
       "</style>\n",
       "<table border=\"1\" class=\"dataframe\">\n",
       "  <thead>\n",
       "    <tr style=\"text-align: right;\">\n",
       "      <th></th>\n",
       "      <th>Date received</th>\n",
       "      <th>Product</th>\n",
       "      <th>Sub-product</th>\n",
       "      <th>Issue</th>\n",
       "      <th>Sub-issue</th>\n",
       "      <th>Consumer complaint narrative</th>\n",
       "      <th>Company public response</th>\n",
       "      <th>Company</th>\n",
       "      <th>State</th>\n",
       "      <th>ZIP code</th>\n",
       "      <th>Tags</th>\n",
       "      <th>Consumer consent provided?</th>\n",
       "      <th>Submitted via</th>\n",
       "      <th>Date sent to company</th>\n",
       "      <th>Company response to consumer</th>\n",
       "      <th>Timely response?</th>\n",
       "      <th>Consumer disputed?</th>\n",
       "      <th>Complaint ID</th>\n",
       "    </tr>\n",
       "  </thead>\n",
       "  <tbody>\n",
       "    <tr>\n",
       "      <th>0</th>\n",
       "      <td>2013-06-04</td>\n",
       "      <td>Mortgage</td>\n",
       "      <td>Conventional fixed mortgage</td>\n",
       "      <td>Loan modification,collection,foreclosure</td>\n",
       "      <td>NaN</td>\n",
       "      <td>NaN</td>\n",
       "      <td>NaN</td>\n",
       "      <td>WELLS FARGO &amp; COMPANY</td>\n",
       "      <td>MO</td>\n",
       "      <td>64834.0</td>\n",
       "      <td>NaN</td>\n",
       "      <td>NaN</td>\n",
       "      <td>Web</td>\n",
       "      <td>2013-06-05</td>\n",
       "      <td>Closed with explanation</td>\n",
       "      <td>Yes</td>\n",
       "      <td>Yes</td>\n",
       "      <td>423759</td>\n",
       "    </tr>\n",
       "    <tr>\n",
       "      <th>1</th>\n",
       "      <td>2016-12-27</td>\n",
       "      <td>Bank account or service</td>\n",
       "      <td>Checking account</td>\n",
       "      <td>Account opening, closing, or management</td>\n",
       "      <td>NaN</td>\n",
       "      <td>I had a checking account with US Bank that I r...</td>\n",
       "      <td>Company has responded to the consumer and the ...</td>\n",
       "      <td>U.S. BANCORP</td>\n",
       "      <td>NV</td>\n",
       "      <td>89139.0</td>\n",
       "      <td>NaN</td>\n",
       "      <td>Consent provided</td>\n",
       "      <td>Web</td>\n",
       "      <td>2016-12-27</td>\n",
       "      <td>Closed with monetary relief</td>\n",
       "      <td>Yes</td>\n",
       "      <td>No</td>\n",
       "      <td>2264736</td>\n",
       "    </tr>\n",
       "    <tr>\n",
       "      <th>2</th>\n",
       "      <td>2016-09-27</td>\n",
       "      <td>Bank account or service</td>\n",
       "      <td>Checking account</td>\n",
       "      <td>Problems caused by my funds being low</td>\n",
       "      <td>NaN</td>\n",
       "      <td>I have a checking and savings account with Wel...</td>\n",
       "      <td>Company has responded to the consumer and the ...</td>\n",
       "      <td>WELLS FARGO &amp; COMPANY</td>\n",
       "      <td>NJ</td>\n",
       "      <td>8098.0</td>\n",
       "      <td>NaN</td>\n",
       "      <td>Consent provided</td>\n",
       "      <td>Web</td>\n",
       "      <td>2016-09-27</td>\n",
       "      <td>Closed with explanation</td>\n",
       "      <td>No</td>\n",
       "      <td>No</td>\n",
       "      <td>2133127</td>\n",
       "    </tr>\n",
       "    <tr>\n",
       "      <th>3</th>\n",
       "      <td>2016-02-02</td>\n",
       "      <td>Credit card</td>\n",
       "      <td>NaN</td>\n",
       "      <td>Customer service / Customer relations</td>\n",
       "      <td>NaN</td>\n",
       "      <td>I recently received an email from Bank of Amer...</td>\n",
       "      <td>Company chooses not to provide a public response</td>\n",
       "      <td>BANK OF AMERICA, NATIONAL ASSOCIATION</td>\n",
       "      <td>NJ</td>\n",
       "      <td>7901.0</td>\n",
       "      <td>Older American</td>\n",
       "      <td>Consent provided</td>\n",
       "      <td>Web</td>\n",
       "      <td>2016-02-02</td>\n",
       "      <td>Closed with explanation</td>\n",
       "      <td>Yes</td>\n",
       "      <td>Yes</td>\n",
       "      <td>1768930</td>\n",
       "    </tr>\n",
       "    <tr>\n",
       "      <th>4</th>\n",
       "      <td>2015-11-30</td>\n",
       "      <td>Mortgage</td>\n",
       "      <td>FHA mortgage</td>\n",
       "      <td>Loan modification,collection,foreclosure</td>\n",
       "      <td>NaN</td>\n",
       "      <td>My brother XXXX XXXX XXXX is XXXX from a XXXX ...</td>\n",
       "      <td>Company chooses not to provide a public response</td>\n",
       "      <td>WELLS FARGO &amp; COMPANY</td>\n",
       "      <td>CO</td>\n",
       "      <td>80127.0</td>\n",
       "      <td>NaN</td>\n",
       "      <td>Consent provided</td>\n",
       "      <td>Web</td>\n",
       "      <td>2015-11-30</td>\n",
       "      <td>Closed with explanation</td>\n",
       "      <td>Yes</td>\n",
       "      <td>No</td>\n",
       "      <td>1676226</td>\n",
       "    </tr>\n",
       "    <tr>\n",
       "      <th>...</th>\n",
       "      <td>...</td>\n",
       "      <td>...</td>\n",
       "      <td>...</td>\n",
       "      <td>...</td>\n",
       "      <td>...</td>\n",
       "      <td>...</td>\n",
       "      <td>...</td>\n",
       "      <td>...</td>\n",
       "      <td>...</td>\n",
       "      <td>...</td>\n",
       "      <td>...</td>\n",
       "      <td>...</td>\n",
       "      <td>...</td>\n",
       "      <td>...</td>\n",
       "      <td>...</td>\n",
       "      <td>...</td>\n",
       "      <td>...</td>\n",
       "      <td>...</td>\n",
       "    </tr>\n",
       "    <tr>\n",
       "      <th>209425</th>\n",
       "      <td>2015-05-24</td>\n",
       "      <td>Debt collection</td>\n",
       "      <td>Credit card</td>\n",
       "      <td>Taking/threatening an illegal action</td>\n",
       "      <td>Sued w/o proper notification of suit</td>\n",
       "      <td>NaN</td>\n",
       "      <td>NaN</td>\n",
       "      <td>JPMORGAN CHASE &amp; CO.</td>\n",
       "      <td>FL</td>\n",
       "      <td>33133.0</td>\n",
       "      <td>NaN</td>\n",
       "      <td>Consent not provided</td>\n",
       "      <td>Web</td>\n",
       "      <td>2015-05-24</td>\n",
       "      <td>Closed with explanation</td>\n",
       "      <td>Yes</td>\n",
       "      <td>No</td>\n",
       "      <td>1390395</td>\n",
       "    </tr>\n",
       "    <tr>\n",
       "      <th>209426</th>\n",
       "      <td>2012-01-10</td>\n",
       "      <td>Mortgage</td>\n",
       "      <td>Conventional fixed mortgage</td>\n",
       "      <td>Loan modification,collection,foreclosure</td>\n",
       "      <td>NaN</td>\n",
       "      <td>NaN</td>\n",
       "      <td>NaN</td>\n",
       "      <td>JPMORGAN CHASE &amp; CO.</td>\n",
       "      <td>NY</td>\n",
       "      <td>10312.0</td>\n",
       "      <td>NaN</td>\n",
       "      <td>NaN</td>\n",
       "      <td>Referral</td>\n",
       "      <td>2012-01-11</td>\n",
       "      <td>Closed without relief</td>\n",
       "      <td>Yes</td>\n",
       "      <td>Yes</td>\n",
       "      <td>12192</td>\n",
       "    </tr>\n",
       "    <tr>\n",
       "      <th>209427</th>\n",
       "      <td>2012-07-17</td>\n",
       "      <td>Student loan</td>\n",
       "      <td>Non-federal student loan</td>\n",
       "      <td>Repaying your loan</td>\n",
       "      <td>NaN</td>\n",
       "      <td>NaN</td>\n",
       "      <td>NaN</td>\n",
       "      <td>BANK OF AMERICA, NATIONAL ASSOCIATION</td>\n",
       "      <td>NH</td>\n",
       "      <td>3260.0</td>\n",
       "      <td>NaN</td>\n",
       "      <td>NaN</td>\n",
       "      <td>Web</td>\n",
       "      <td>2012-07-18</td>\n",
       "      <td>Closed with explanation</td>\n",
       "      <td>Yes</td>\n",
       "      <td>No</td>\n",
       "      <td>118351</td>\n",
       "    </tr>\n",
       "    <tr>\n",
       "      <th>209428</th>\n",
       "      <td>2016-09-29</td>\n",
       "      <td>Bank account or service</td>\n",
       "      <td>Checking account</td>\n",
       "      <td>Account opening, closing, or management</td>\n",
       "      <td>NaN</td>\n",
       "      <td>Near the end of XXXX 2016 I opened a Citigold ...</td>\n",
       "      <td>Company has responded to the consumer and the ...</td>\n",
       "      <td>CITIBANK, N.A.</td>\n",
       "      <td>CA</td>\n",
       "      <td>90049.0</td>\n",
       "      <td>NaN</td>\n",
       "      <td>Consent provided</td>\n",
       "      <td>Web</td>\n",
       "      <td>2016-09-29</td>\n",
       "      <td>Closed with non-monetary relief</td>\n",
       "      <td>Yes</td>\n",
       "      <td>No</td>\n",
       "      <td>2138969</td>\n",
       "    </tr>\n",
       "    <tr>\n",
       "      <th>209429</th>\n",
       "      <td>2015-04-29</td>\n",
       "      <td>Mortgage</td>\n",
       "      <td>Conventional fixed mortgage</td>\n",
       "      <td>Loan modification,collection,foreclosure</td>\n",
       "      <td>NaN</td>\n",
       "      <td>My father died in XX/XX/XXXX. Left me his only...</td>\n",
       "      <td>NaN</td>\n",
       "      <td>CITIBANK, N.A.</td>\n",
       "      <td>OK</td>\n",
       "      <td>74066.0</td>\n",
       "      <td>NaN</td>\n",
       "      <td>Consent provided</td>\n",
       "      <td>Web</td>\n",
       "      <td>2015-04-29</td>\n",
       "      <td>Closed with explanation</td>\n",
       "      <td>Yes</td>\n",
       "      <td>No</td>\n",
       "      <td>1352738</td>\n",
       "    </tr>\n",
       "  </tbody>\n",
       "</table>\n",
       "<p>209430 rows × 18 columns</p>\n",
       "</div>"
      ],
      "text/plain": [
       "       Date received                  Product                  Sub-product  \\\n",
       "0         2013-06-04                 Mortgage  Conventional fixed mortgage   \n",
       "1         2016-12-27  Bank account or service             Checking account   \n",
       "2         2016-09-27  Bank account or service             Checking account   \n",
       "3         2016-02-02              Credit card                          NaN   \n",
       "4         2015-11-30                 Mortgage                 FHA mortgage   \n",
       "...              ...                      ...                          ...   \n",
       "209425    2015-05-24          Debt collection                  Credit card   \n",
       "209426    2012-01-10                 Mortgage  Conventional fixed mortgage   \n",
       "209427    2012-07-17             Student loan     Non-federal student loan   \n",
       "209428    2016-09-29  Bank account or service             Checking account   \n",
       "209429    2015-04-29                 Mortgage  Conventional fixed mortgage   \n",
       "\n",
       "                                           Issue  \\\n",
       "0       Loan modification,collection,foreclosure   \n",
       "1        Account opening, closing, or management   \n",
       "2          Problems caused by my funds being low   \n",
       "3          Customer service / Customer relations   \n",
       "4       Loan modification,collection,foreclosure   \n",
       "...                                          ...   \n",
       "209425      Taking/threatening an illegal action   \n",
       "209426  Loan modification,collection,foreclosure   \n",
       "209427                        Repaying your loan   \n",
       "209428   Account opening, closing, or management   \n",
       "209429  Loan modification,collection,foreclosure   \n",
       "\n",
       "                                   Sub-issue  \\\n",
       "0                                        NaN   \n",
       "1                                        NaN   \n",
       "2                                        NaN   \n",
       "3                                        NaN   \n",
       "4                                        NaN   \n",
       "...                                      ...   \n",
       "209425  Sued w/o proper notification of suit   \n",
       "209426                                   NaN   \n",
       "209427                                   NaN   \n",
       "209428                                   NaN   \n",
       "209429                                   NaN   \n",
       "\n",
       "                             Consumer complaint narrative  \\\n",
       "0                                                     NaN   \n",
       "1       I had a checking account with US Bank that I r...   \n",
       "2       I have a checking and savings account with Wel...   \n",
       "3       I recently received an email from Bank of Amer...   \n",
       "4       My brother XXXX XXXX XXXX is XXXX from a XXXX ...   \n",
       "...                                                   ...   \n",
       "209425                                                NaN   \n",
       "209426                                                NaN   \n",
       "209427                                                NaN   \n",
       "209428  Near the end of XXXX 2016 I opened a Citigold ...   \n",
       "209429  My father died in XX/XX/XXXX. Left me his only...   \n",
       "\n",
       "                                  Company public response  \\\n",
       "0                                                     NaN   \n",
       "1       Company has responded to the consumer and the ...   \n",
       "2       Company has responded to the consumer and the ...   \n",
       "3        Company chooses not to provide a public response   \n",
       "4        Company chooses not to provide a public response   \n",
       "...                                                   ...   \n",
       "209425                                                NaN   \n",
       "209426                                                NaN   \n",
       "209427                                                NaN   \n",
       "209428  Company has responded to the consumer and the ...   \n",
       "209429                                                NaN   \n",
       "\n",
       "                                      Company State ZIP code            Tags  \\\n",
       "0                       WELLS FARGO & COMPANY    MO  64834.0             NaN   \n",
       "1                                U.S. BANCORP    NV  89139.0             NaN   \n",
       "2                       WELLS FARGO & COMPANY    NJ   8098.0             NaN   \n",
       "3       BANK OF AMERICA, NATIONAL ASSOCIATION    NJ   7901.0  Older American   \n",
       "4                       WELLS FARGO & COMPANY    CO  80127.0             NaN   \n",
       "...                                       ...   ...      ...             ...   \n",
       "209425                   JPMORGAN CHASE & CO.    FL  33133.0             NaN   \n",
       "209426                   JPMORGAN CHASE & CO.    NY  10312.0             NaN   \n",
       "209427  BANK OF AMERICA, NATIONAL ASSOCIATION    NH   3260.0             NaN   \n",
       "209428                         CITIBANK, N.A.    CA  90049.0             NaN   \n",
       "209429                         CITIBANK, N.A.    OK  74066.0             NaN   \n",
       "\n",
       "       Consumer consent provided? Submitted via Date sent to company  \\\n",
       "0                             NaN           Web           2013-06-05   \n",
       "1                Consent provided           Web           2016-12-27   \n",
       "2                Consent provided           Web           2016-09-27   \n",
       "3                Consent provided           Web           2016-02-02   \n",
       "4                Consent provided           Web           2015-11-30   \n",
       "...                           ...           ...                  ...   \n",
       "209425       Consent not provided           Web           2015-05-24   \n",
       "209426                        NaN      Referral           2012-01-11   \n",
       "209427                        NaN           Web           2012-07-18   \n",
       "209428           Consent provided           Web           2016-09-29   \n",
       "209429           Consent provided           Web           2015-04-29   \n",
       "\n",
       "           Company response to consumer Timely response? Consumer disputed?  \\\n",
       "0               Closed with explanation              Yes                Yes   \n",
       "1           Closed with monetary relief              Yes                 No   \n",
       "2               Closed with explanation               No                 No   \n",
       "3               Closed with explanation              Yes                Yes   \n",
       "4               Closed with explanation              Yes                 No   \n",
       "...                                 ...              ...                ...   \n",
       "209425          Closed with explanation              Yes                 No   \n",
       "209426            Closed without relief              Yes                Yes   \n",
       "209427          Closed with explanation              Yes                 No   \n",
       "209428  Closed with non-monetary relief              Yes                 No   \n",
       "209429          Closed with explanation              Yes                 No   \n",
       "\n",
       "        Complaint ID  \n",
       "0             423759  \n",
       "1            2264736  \n",
       "2            2133127  \n",
       "3            1768930  \n",
       "4            1676226  \n",
       "...              ...  \n",
       "209425       1390395  \n",
       "209426         12192  \n",
       "209427        118351  \n",
       "209428       2138969  \n",
       "209429       1352738  \n",
       "\n",
       "[209430 rows x 18 columns]"
      ]
     },
     "execution_count": 113,
     "metadata": {},
     "output_type": "execute_result"
    }
   ],
   "source": [
    "#Banks with most number of complaints\n",
    "\n",
    "banks = ['BANK OF AMERICA, NATIONAL ASSOCIATION', 'WELLS FARGO & COMPANY','JPMORGAN CHASE & CO.', 'CITIBANK, N.A.' , 'U.S. BANCORP']\n",
    "complaints = df[(df['Company'].isin(banks))]\n",
    "complaints.to_csv('/Users/snehabhattacharya/Desktop/NYU/Sem 3/Business Analytics/Project/Complaints Data/complaints.csv', index=False)\n",
    "complaints"
   ]
  },
  {
   "cell_type": "code",
   "execution_count": 114,
   "id": "2642738a-cb9b-47dc-9d41-b54026a73017",
   "metadata": {},
   "outputs": [
    {
     "data": {
      "text/plain": [
       "(array([53693.,     0., 12347.,     0.,     0., 65992.,     0., 42630.,\n",
       "            0., 34768.]),\n",
       " array([0. , 0.4, 0.8, 1.2, 1.6, 2. , 2.4, 2.8, 3.2, 3.6, 4. ]),\n",
       " <BarContainer object of 10 artists>)"
      ]
     },
     "execution_count": 114,
     "metadata": {},
     "output_type": "execute_result"
    },
    {
     "data": {
      "image/png": "[encoded data removed]",
      "text/plain": [
       "<Figure size 1440x1440 with 1 Axes>"
      ]
     },
     "metadata": {},
     "output_type": "display_data"
    }
   ],
   "source": [
    "plt.figure(figsize=(20, 20), facecolor='yellow',edgecolor='blue')\n",
    "plt.hist(complaints['Company'], histtype='bar', align='mid', label='str', color='blue')"
   ]
  },
  {
   "attachments": {},
   "cell_type": "markdown",
   "id": "4b33502c-b931-4d56-aa34-71914d5f1c12",
   "metadata": {},
   "source": [
    "### Predicting 'Consumer Disputed?'\n",
    "\n",
    "We look at the distribution of how many people disputed the complaint's resolution versus how many did not. "
   ]
  },
  {
   "cell_type": "code",
   "execution_count": 115,
   "id": "09279f0e-3e6c-453c-99b7-1ea4b4353d23",
   "metadata": {},
   "outputs": [
    {
     "data": {
      "text/plain": [
       "209430"
      ]
     },
     "execution_count": 115,
     "metadata": {},
     "output_type": "execute_result"
    }
   ],
   "source": [
    "#Total number of disputes\n",
    "\n",
    "complaints['Consumer disputed?'].value_counts().sum()"
   ]
  },
  {
   "attachments": {},
   "cell_type": "markdown",
   "id": "ef5932fb-e542-430f-9df8-d96ffa156d64",
   "metadata": {},
   "source": [
    "This is the number of rows after dropping null values from 'Consumer Disputed?'"
   ]
  },
  {
   "cell_type": "code",
   "execution_count": 116,
   "id": "14da2375-20a0-4e30-b774-3fdf28b23b28",
   "metadata": {},
   "outputs": [
    {
     "data": {
      "text/plain": [
       "No     164454\n",
       "Yes     44976\n",
       "Name: Consumer disputed?, dtype: int64"
      ]
     },
     "execution_count": 116,
     "metadata": {},
     "output_type": "execute_result"
    }
   ],
   "source": [
    "# Split between Yes and No\n",
    "\n",
    "complaints['Consumer disputed?'].value_counts()"
   ]
  },
  {
   "cell_type": "code",
   "execution_count": 117,
   "id": "963826cc-5185-4251-9e8d-098e9de6a867",
   "metadata": {},
   "outputs": [
    {
     "data": {
      "text/plain": [
       "No     0.785246\n",
       "Yes    0.214754\n",
       "Name: Consumer disputed?, dtype: float64"
      ]
     },
     "execution_count": 117,
     "metadata": {},
     "output_type": "execute_result"
    }
   ],
   "source": [
    "# To see the percentage of Yes and No\n",
    "\n",
    "complaints['Consumer disputed?'].value_counts(normalize=True)"
   ]
  },
  {
   "attachments": {},
   "cell_type": "markdown",
   "id": "285bb43c-d946-4a22-bfeb-8e717d3ece25",
   "metadata": {},
   "source": [
    "***To see the total cost that would have occured without our model:***\n",
    "\n",
    "We multiply the total number of customer disputes with $190, which give us $39,791,700.\n",
    "\n",
    "This means that we would have spent $39.79 mn USD if we did not use a model.\n"
   ]
  },
  {
   "cell_type": "code",
   "execution_count": 118,
   "id": "79d7c40c-1725-4f75-b739-455ebb55b934",
   "metadata": {},
   "outputs": [],
   "source": [
    "# Next, for cleanliness we change the column type for 'Consumer Disputed' from string to category\n",
    "\n",
    "complaints['Consumer disputed?'] = complaints['Consumer disputed?'].astype('category')"
   ]
  },
  {
   "attachments": {},
   "cell_type": "markdown",
   "id": "2b4df9ad-fe41-4e8a-b0ae-f8af6c153cf4",
   "metadata": {},
   "source": [
    "So we have an imbalanced dataset as only about 21% is in the `Yes` class.  This means we should consider rebalancing the training dataset using a technique such as SMOTE.  But we will do that after doing the train-test split.  But first, we need to think about what in our data should be the predictor variables, ie, what should be included as a feature in `X`.\n",
    "\n",
    "## Deciding the feature set      \n",
    "To do that, let us look at the dataset again.  And refer to the data-dictionary in the Word document for the project."
   ]
  },
  {
   "attachments": {},
   "cell_type": "markdown",
   "id": "6f86856a-56a9-4c5f-8a1e-1357aa992280",
   "metadata": {},
   "source": [
    "|Field name  |Description  |Can it be a feature?  |\n",
    "|------------  |------------  |------------  |\n",
    "|Date received  |The date the CFPB received the complaint. For example, “05/25/2013.”  |Not a feature  |\n",
    "|Product  |The type of product the consumer identified in the complaint. For example, “Checking or savings account” or “Student loan.”  |Yes  |\n",
    "|Sub-product  |The type of sub-product the consumer identified in the complaint. For example, “Checking account” or “Private student loan.”  |Yes  |\n",
    "|Issue  |The issue the consumer identified in the complaint. For example, “Managing an account” or “Struggling to repay your loan.”  |Yes  |\n",
    "|Sub-issue  |The sub-issue the consumer identified in the complaint. For example, “Deposits and withdrawals” or “Problem lowering your monthly payments.”  |Yes  |\n",
    "|Consumer complaint narrative  |Consumer complaint narrative is the consumer-submitted description of “what happened” from the complaint. Consumers must opt-in to share their narrative. We will not publish the narrative unless the consumer consents, and consumers can opt-out at any time. The CFPB takes reasonable steps to scrub personal information from each complaint that could be used to identify the consumer.  |Maybe, if we can convert text to some vector form  |\n",
    "|Company public response  |The company’s optional, public-facing response to a consumer’s complaint. Companies can choose to select a response from a pre-set list of options that will be posted on the public database. For example, “Company believes complaint is the result of an isolated error.”  |Yes  |\n",
    "|Company  |The complaint is about this company. For example, “ABC Bank.”  |Yes  |\n",
    "|State  |The state of the mailing address provided by the consumer.  |Yes  |\n",
    "|ZIP code  |The mailing ZIP code provided by the consumer. This field may: i) include the first five digits of a ZIP code; ii) include the first three digits of a ZIP code (if the consumer consented to publication of their complaint narrative); or iii) be blank (if ZIP codes have been submitted with non-numeric values, if there are less than 20,000 people in a given ZIP code, or if the complaint has an address outside of the United States).  |Yes  |\n",
    "|Tags  |Data that supports easier searching and sorting of complaints submitted by or on behalf of consumers. For example, complaints where the submitter reports the age of the consumer as 62 years or older are tagged “Older American.” Complaints submitted by or on behalf of a servicemember or the spouse or dependent of a servicemember are tagged “Servicemember.” Servicemember includes anyone who is active duty, National Guard, or Reservist, as well as anyone who previously served and is a veteran or retiree.  |Yes  |\n",
    "|Consumer consent provided?  |Identifies whether the consumer opted in to publish their complaint narrative. We do not publish the narrative unless the consumer consents, and consumers can opt-out at any time.  |Yes  |\n",
    "|Submitted via  |How the complaint was submitted to the CFPB. For example, “Web” or “Phone.”  |Yes  |\n",
    "|Date sent to company  |The date the CFPB sent the complaint to the company.  |Not relevant  |\n",
    "|Company response to consumer  |This is how the company responded. For example, “Closed with explanation.”  |Yes  |\n",
    "|Timely response?  |Whether the company gave a timely response. For example, “Yes” or “No.”  |Yes  |\n",
    "|Consumer disputed?  |Whether the consumer disputed the company’s response.  |This the Target  |\n",
    "|Complaint ID  |The unique identification number for a complaint.  |Not a feature  |"
   ]
  },
  {
   "attachments": {},
   "cell_type": "markdown",
   "id": "537dd4a8-5c09-4f6b-b95a-16cb347ffe29",
   "metadata": {},
   "source": [
    "As 'Consumer complaint narrative' might need to be converted to some vector form, we will look into this later."
   ]
  },
  {
   "cell_type": "code",
   "execution_count": 119,
   "id": "dc5c647b-1aa4-43c1-ab43-bcadbd808aeb",
   "metadata": {},
   "outputs": [],
   "source": [
    "X = complaints[[ 'Product', 'Sub-product', 'Issue', 'Sub-issue',\n",
    "        'Company public response', 'Company',\n",
    "       'State',  'Tags',\n",
    "       'Submitted via',  'Company response to consumer',\n",
    "       'Timely response?']]"
   ]
  },
  {
   "cell_type": "code",
   "execution_count": 120,
   "id": "ee160ba0-77bc-4812-96ba-7d9d3aa8ab8f",
   "metadata": {},
   "outputs": [
    {
     "name": "stdout",
     "output_type": "stream",
     "text": [
      "209430\n",
      "592\n"
     ]
    }
   ],
   "source": [
    "# Let us check if we have any missing values in our reduced dataset X\n",
    "\n",
    "print(len(X)) # Number of rows before dropna()\n",
    "print(len(X.dropna())) # Number of rows after dropna() "
   ]
  },
  {
   "attachments": {},
   "cell_type": "markdown",
   "id": "69cc3600-fa36-4b8a-bd68-27bb2cdda6e9",
   "metadata": {},
   "source": [
    "If we were to drop `NaN` values, we would be left with very few rows.  That means we need to think harder about `NaN` values.  \n",
    "\n",
    "To do that, let us look at which columns are missing values.  "
   ]
  },
  {
   "cell_type": "code",
   "execution_count": 121,
   "id": "4f9bdd71-ef79-4f0c-8d23-cfe0f0cc1767",
   "metadata": {},
   "outputs": [
    {
     "data": {
      "text/plain": [
       "array(['Conventional fixed mortgage', 'Checking account', nan,\n",
       "       'FHA mortgage', 'Vehicle loan',\n",
       "       'Home equity loan or line of credit',\n",
       "       'Other (i.e. phone, health club, etc.)',\n",
       "       'Domestic (US) money transfer', 'Reverse mortgage',\n",
       "       'Other bank product/service', 'Credit card',\n",
       "       'Conventional adjustable mortgage (ARM)', 'Other mortgage',\n",
       "       'Non-federal student loan', 'Check cashing', 'Second mortgage',\n",
       "       'Mortgage', 'Savings account', 'Installment loan',\n",
       "       'Cashing a check without an account', 'VA mortgage',\n",
       "       'Vehicle lease', 'Federal student loan servicing',\n",
       "       'International money transfer', '(CD) Certificate of deposit',\n",
       "       'General purpose card', 'Gift or merchant card', 'I do not know',\n",
       "       'Personal line of credit', 'Auto', 'Payday loan',\n",
       "       'Federal student loan', 'Other special purpose card', 'Pawn loan',\n",
       "       'Foreign currency exchange', 'Title loan', 'Mobile wallet',\n",
       "       'Traveler’s/Cashier’s checks', 'Money order', 'Medical',\n",
       "       'Payroll card', 'ID prepaid card',\n",
       "       'Government benefit payment card', 'Refund anticipation check',\n",
       "       'Electronic Benefit Transfer / EBT card', 'Debt settlement',\n",
       "       'Transit card', 'Credit repair', 'Other type of mortgage',\n",
       "       'Other banking product or service'], dtype=object)"
      ]
     },
     "execution_count": 121,
     "metadata": {},
     "output_type": "execute_result"
    }
   ],
   "source": [
    "X['Sub-product'].unique()"
   ]
  },
  {
   "cell_type": "code",
   "execution_count": 122,
   "id": "ccc8dc45-9452-45af-8cd5-d05d6720b0c6",
   "metadata": {},
   "outputs": [
    {
     "data": {
      "text/plain": [
       "array([nan, 'Frequent or repeated calls',\n",
       "       'Talked to a third party about my debt',\n",
       "       'Trouble with how payments are handled',\n",
       "       'Keep getting calls about my loan',\n",
       "       \"Don't agree with fees charged\", 'Debt was paid',\n",
       "       \"Can't decrease my monthly payments\",\n",
       "       'Right to dispute notice not received',\n",
       "       'Indicated committed crime not paying',\n",
       "       'Debt resulted from identity theft',\n",
       "       'Report improperly shared by CRC',\n",
       "       'Received bad information about my loan',\n",
       "       'Not given enough info to verify debt',\n",
       "       'Attempted to collect wrong amount',\n",
       "       'Debt was discharged in bankruptcy',\n",
       "       'Not disclosed as an attempt to collect',\n",
       "       'Having problems with customer service',\n",
       "       \"Can't get flexible payment options\", 'Debt is not mine',\n",
       "       'Used obscene/profane/abusive language',\n",
       "       'Need information about my balance/terms',\n",
       "       'Information is not mine', 'Contacted me after I asked not to',\n",
       "       \"Indicated shouldn't respond to lawsuit\",\n",
       "       'Attempted to/Collected exempt funds',\n",
       "       'Threatened arrest/jail if do not pay',\n",
       "       \"Can't temporarily postpone payments\",\n",
       "       'Contacted employer after asked not to',\n",
       "       'Threatened to sue on too old debt', 'Account status',\n",
       "       'Account terms and changes', \"Can't qualify for a loan\",\n",
       "       \"Sued where didn't live/sign for debt\",\n",
       "       'Called after sent written cease of comm', 'Account terms',\n",
       "       'Seized/Attempted to seize property',\n",
       "       'Sued w/o proper notification of suit',\n",
       "       'Threatened to take legal action',\n",
       "       'Qualify for a better loan than offered',\n",
       "       'Called outside of 8am-9pm', 'Reinserted previously deleted info',\n",
       "       'Problem with statement of dispute',\n",
       "       'Inadequate help over the phone',\n",
       "       'Impersonated an attorney or official',\n",
       "       'Report shared with employer w/o consent',\n",
       "       'Problem getting my free annual report',\n",
       "       'No notice of investigation status/result', 'Public record',\n",
       "       'Billing dispute', 'Receiving unwanted marketing/advertising',\n",
       "       'Contacted me instead of my attorney', 'Personal information',\n",
       "       'Problem cancelling or closing account',\n",
       "       'Problem getting report or credit score',\n",
       "       'Received marketing offer after opted out',\n",
       "       'Problem with fraud alerts', 'Investigation took too long',\n",
       "       'Account opened as a result of fraud'], dtype=object)"
      ]
     },
     "execution_count": 122,
     "metadata": {},
     "output_type": "execute_result"
    }
   ],
   "source": [
    "X['Sub-issue'].unique()"
   ]
  },
  {
   "cell_type": "code",
   "execution_count": 123,
   "id": "63688dfd-c701-4df6-968c-4778c7487baa",
   "metadata": {},
   "outputs": [
    {
     "data": {
      "text/plain": [
       "array(['MO', 'NV', 'NJ', 'CO', 'CA', 'WI', 'NH', 'IL', 'TX', 'AZ', 'NY',\n",
       "       'OH', 'MD', 'NC', 'VA', 'FL', 'KY', 'TN', 'SC', 'GA', 'DE', 'CT',\n",
       "       'ID', 'DC', 'RI', nan, 'MI', 'PA', 'WA', 'WV', 'OK', 'OR', 'MA',\n",
       "       'IA', 'NM', 'AL', 'MN', 'HI', 'ME', 'IN', 'MS', 'MP', 'KS', 'AR',\n",
       "       'SD', 'VT', 'UT', 'PR', 'LA', 'NE', 'MT', 'AE', 'AK', 'WY', 'AP',\n",
       "       'VI', 'ND', 'AS', 'MH', 'GU', 'FM', 'PW', 'AA'], dtype=object)"
      ]
     },
     "execution_count": 123,
     "metadata": {},
     "output_type": "execute_result"
    }
   ],
   "source": [
    "X['State'].unique()"
   ]
  },
  {
   "cell_type": "code",
   "execution_count": 124,
   "id": "9ec2b401-52c1-42ed-acf0-d6a81f689cdc",
   "metadata": {},
   "outputs": [
    {
     "data": {
      "text/plain": [
       "array([nan,\n",
       "       'Company has responded to the consumer and the CFPB and chooses not to provide a public response',\n",
       "       'Company chooses not to provide a public response',\n",
       "       'Company believes complaint represents an opportunity for improvement to better serve consumers',\n",
       "       'Company believes it acted appropriately as authorized by contract or law',\n",
       "       'Company believes the complaint is the result of a misunderstanding',\n",
       "       'Company believes complaint relates to a discontinued policy or procedure',\n",
       "       'Company believes complaint is the result of an isolated error',\n",
       "       'Company believes complaint caused principally by actions of third party outside the control or direction of the company'],\n",
       "      dtype=object)"
      ]
     },
     "execution_count": 124,
     "metadata": {},
     "output_type": "execute_result"
    }
   ],
   "source": [
    "X['Company public response'].unique()"
   ]
  },
  {
   "cell_type": "code",
   "execution_count": 125,
   "id": "070f9124-26df-49b3-8c8e-f81eeaf89a99",
   "metadata": {},
   "outputs": [
    {
     "name": "stdout",
     "output_type": "stream",
     "text": [
      "[nan 'Older American' 'Servicemember' 'Older American, Servicemember']\n"
     ]
    },
    {
     "data": {
      "text/plain": [
       "Older American                   18757\n",
       "Servicemember                     7410\n",
       "Older American, Servicemember     2408\n",
       "Name: Tags, dtype: int64"
      ]
     },
     "execution_count": 125,
     "metadata": {},
     "output_type": "execute_result"
    }
   ],
   "source": [
    "print(X['Tags'].unique())\n",
    "X['Tags'].value_counts()"
   ]
  },
  {
   "attachments": {},
   "cell_type": "markdown",
   "id": "cc1c2db7-94a8-4cf7-89a8-1d4c87d8e7b5",
   "metadata": {},
   "source": [
    "## Dealing with missing data  \n",
    "It is clear that all of these fields that have missing data are categorical, or string, and we cannot use any numerical imputation method to fill the missing values. \n",
    "\n",
    "What we could do to remove the NaNs is to put the text 'missing' in its place. That would mean that all missing items would be treated as a category that we humans understand to be missing, but for the machine it is just another category called 'missing'.  "
   ]
  },
  {
   "cell_type": "code",
   "execution_count": 126,
   "id": "7ac4f817-8b5b-4ba3-8644-0029d879c71a",
   "metadata": {},
   "outputs": [
    {
     "data": {
      "text/plain": [
       "(209430, 11)"
      ]
     },
     "execution_count": 126,
     "metadata": {},
     "output_type": "execute_result"
    }
   ],
   "source": [
    "X = X.fillna('missing')\n",
    "X.dropna().shape"
   ]
  },
  {
   "attachments": {},
   "cell_type": "markdown",
   "id": "6a9d437f-5cda-49bb-92ed-2f20974a1dc5",
   "metadata": {},
   "source": [
    "## Data Preparation\n",
    "We see that there are no cells that have NaNs any more after our operations above.  So it is safe to proceed."
   ]
  },
  {
   "cell_type": "code",
   "execution_count": 127,
   "id": "7f0cac77-92a9-471f-94cb-b018440920ce",
   "metadata": {},
   "outputs": [],
   "source": [
    "#convert all the X observations into numbers\n",
    "\n",
    "X = pd.get_dummies(X)"
   ]
  },
  {
   "cell_type": "code",
   "execution_count": 128,
   "id": "ef1fdf54-0a0d-43cd-b40a-4306193e892c",
   "metadata": {},
   "outputs": [
    {
     "name": "stdout",
     "output_type": "stream",
     "text": [
      "X has the shape  (209430, 313)\n"
     ]
    },
    {
     "data": {
      "text/html": [
       "<div>\n",
       "<style scoped>\n",
       "    .dataframe tbody tr th:only-of-type {\n",
       "        vertical-align: middle;\n",
       "    }\n",
       "\n",
       "    .dataframe tbody tr th {\n",
       "        vertical-align: top;\n",
       "    }\n",
       "\n",
       "    .dataframe thead th {\n",
       "        text-align: right;\n",
       "    }\n",
       "</style>\n",
       "<table border=\"1\" class=\"dataframe\">\n",
       "  <thead>\n",
       "    <tr style=\"text-align: right;\">\n",
       "      <th></th>\n",
       "      <th>Product_Bank account or service</th>\n",
       "      <th>Product_Checking or savings account</th>\n",
       "      <th>Product_Consumer Loan</th>\n",
       "      <th>Product_Credit card</th>\n",
       "      <th>Product_Credit reporting</th>\n",
       "      <th>Product_Debt collection</th>\n",
       "      <th>Product_Money transfers</th>\n",
       "      <th>Product_Mortgage</th>\n",
       "      <th>Product_Other financial service</th>\n",
       "      <th>Product_Payday loan</th>\n",
       "      <th>...</th>\n",
       "      <th>Submitted via_Web</th>\n",
       "      <th>Company response to consumer_Closed</th>\n",
       "      <th>Company response to consumer_Closed with explanation</th>\n",
       "      <th>Company response to consumer_Closed with monetary relief</th>\n",
       "      <th>Company response to consumer_Closed with non-monetary relief</th>\n",
       "      <th>Company response to consumer_Closed with relief</th>\n",
       "      <th>Company response to consumer_Closed without relief</th>\n",
       "      <th>Company response to consumer_Untimely response</th>\n",
       "      <th>Timely response?_No</th>\n",
       "      <th>Timely response?_Yes</th>\n",
       "    </tr>\n",
       "  </thead>\n",
       "  <tbody>\n",
       "    <tr>\n",
       "      <th>0</th>\n",
       "      <td>0</td>\n",
       "      <td>0</td>\n",
       "      <td>0</td>\n",
       "      <td>0</td>\n",
       "      <td>0</td>\n",
       "      <td>0</td>\n",
       "      <td>0</td>\n",
       "      <td>1</td>\n",
       "      <td>0</td>\n",
       "      <td>0</td>\n",
       "      <td>...</td>\n",
       "      <td>1</td>\n",
       "      <td>0</td>\n",
       "      <td>1</td>\n",
       "      <td>0</td>\n",
       "      <td>0</td>\n",
       "      <td>0</td>\n",
       "      <td>0</td>\n",
       "      <td>0</td>\n",
       "      <td>0</td>\n",
       "      <td>1</td>\n",
       "    </tr>\n",
       "    <tr>\n",
       "      <th>1</th>\n",
       "      <td>1</td>\n",
       "      <td>0</td>\n",
       "      <td>0</td>\n",
       "      <td>0</td>\n",
       "      <td>0</td>\n",
       "      <td>0</td>\n",
       "      <td>0</td>\n",
       "      <td>0</td>\n",
       "      <td>0</td>\n",
       "      <td>0</td>\n",
       "      <td>...</td>\n",
       "      <td>1</td>\n",
       "      <td>0</td>\n",
       "      <td>0</td>\n",
       "      <td>1</td>\n",
       "      <td>0</td>\n",
       "      <td>0</td>\n",
       "      <td>0</td>\n",
       "      <td>0</td>\n",
       "      <td>0</td>\n",
       "      <td>1</td>\n",
       "    </tr>\n",
       "    <tr>\n",
       "      <th>2</th>\n",
       "      <td>1</td>\n",
       "      <td>0</td>\n",
       "      <td>0</td>\n",
       "      <td>0</td>\n",
       "      <td>0</td>\n",
       "      <td>0</td>\n",
       "      <td>0</td>\n",
       "      <td>0</td>\n",
       "      <td>0</td>\n",
       "      <td>0</td>\n",
       "      <td>...</td>\n",
       "      <td>1</td>\n",
       "      <td>0</td>\n",
       "      <td>1</td>\n",
       "      <td>0</td>\n",
       "      <td>0</td>\n",
       "      <td>0</td>\n",
       "      <td>0</td>\n",
       "      <td>0</td>\n",
       "      <td>1</td>\n",
       "      <td>0</td>\n",
       "    </tr>\n",
       "    <tr>\n",
       "      <th>3</th>\n",
       "      <td>0</td>\n",
       "      <td>0</td>\n",
       "      <td>0</td>\n",
       "      <td>1</td>\n",
       "      <td>0</td>\n",
       "      <td>0</td>\n",
       "      <td>0</td>\n",
       "      <td>0</td>\n",
       "      <td>0</td>\n",
       "      <td>0</td>\n",
       "      <td>...</td>\n",
       "      <td>1</td>\n",
       "      <td>0</td>\n",
       "      <td>1</td>\n",
       "      <td>0</td>\n",
       "      <td>0</td>\n",
       "      <td>0</td>\n",
       "      <td>0</td>\n",
       "      <td>0</td>\n",
       "      <td>0</td>\n",
       "      <td>1</td>\n",
       "    </tr>\n",
       "    <tr>\n",
       "      <th>4</th>\n",
       "      <td>0</td>\n",
       "      <td>0</td>\n",
       "      <td>0</td>\n",
       "      <td>0</td>\n",
       "      <td>0</td>\n",
       "      <td>0</td>\n",
       "      <td>0</td>\n",
       "      <td>1</td>\n",
       "      <td>0</td>\n",
       "      <td>0</td>\n",
       "      <td>...</td>\n",
       "      <td>1</td>\n",
       "      <td>0</td>\n",
       "      <td>1</td>\n",
       "      <td>0</td>\n",
       "      <td>0</td>\n",
       "      <td>0</td>\n",
       "      <td>0</td>\n",
       "      <td>0</td>\n",
       "      <td>0</td>\n",
       "      <td>1</td>\n",
       "    </tr>\n",
       "    <tr>\n",
       "      <th>...</th>\n",
       "      <td>...</td>\n",
       "      <td>...</td>\n",
       "      <td>...</td>\n",
       "      <td>...</td>\n",
       "      <td>...</td>\n",
       "      <td>...</td>\n",
       "      <td>...</td>\n",
       "      <td>...</td>\n",
       "      <td>...</td>\n",
       "      <td>...</td>\n",
       "      <td>...</td>\n",
       "      <td>...</td>\n",
       "      <td>...</td>\n",
       "      <td>...</td>\n",
       "      <td>...</td>\n",
       "      <td>...</td>\n",
       "      <td>...</td>\n",
       "      <td>...</td>\n",
       "      <td>...</td>\n",
       "      <td>...</td>\n",
       "      <td>...</td>\n",
       "    </tr>\n",
       "    <tr>\n",
       "      <th>209425</th>\n",
       "      <td>0</td>\n",
       "      <td>0</td>\n",
       "      <td>0</td>\n",
       "      <td>0</td>\n",
       "      <td>0</td>\n",
       "      <td>1</td>\n",
       "      <td>0</td>\n",
       "      <td>0</td>\n",
       "      <td>0</td>\n",
       "      <td>0</td>\n",
       "      <td>...</td>\n",
       "      <td>1</td>\n",
       "      <td>0</td>\n",
       "      <td>1</td>\n",
       "      <td>0</td>\n",
       "      <td>0</td>\n",
       "      <td>0</td>\n",
       "      <td>0</td>\n",
       "      <td>0</td>\n",
       "      <td>0</td>\n",
       "      <td>1</td>\n",
       "    </tr>\n",
       "    <tr>\n",
       "      <th>209426</th>\n",
       "      <td>0</td>\n",
       "      <td>0</td>\n",
       "      <td>0</td>\n",
       "      <td>0</td>\n",
       "      <td>0</td>\n",
       "      <td>0</td>\n",
       "      <td>0</td>\n",
       "      <td>1</td>\n",
       "      <td>0</td>\n",
       "      <td>0</td>\n",
       "      <td>...</td>\n",
       "      <td>0</td>\n",
       "      <td>0</td>\n",
       "      <td>0</td>\n",
       "      <td>0</td>\n",
       "      <td>0</td>\n",
       "      <td>0</td>\n",
       "      <td>1</td>\n",
       "      <td>0</td>\n",
       "      <td>0</td>\n",
       "      <td>1</td>\n",
       "    </tr>\n",
       "    <tr>\n",
       "      <th>209427</th>\n",
       "      <td>0</td>\n",
       "      <td>0</td>\n",
       "      <td>0</td>\n",
       "      <td>0</td>\n",
       "      <td>0</td>\n",
       "      <td>0</td>\n",
       "      <td>0</td>\n",
       "      <td>0</td>\n",
       "      <td>0</td>\n",
       "      <td>0</td>\n",
       "      <td>...</td>\n",
       "      <td>1</td>\n",
       "      <td>0</td>\n",
       "      <td>1</td>\n",
       "      <td>0</td>\n",
       "      <td>0</td>\n",
       "      <td>0</td>\n",
       "      <td>0</td>\n",
       "      <td>0</td>\n",
       "      <td>0</td>\n",
       "      <td>1</td>\n",
       "    </tr>\n",
       "    <tr>\n",
       "      <th>209428</th>\n",
       "      <td>1</td>\n",
       "      <td>0</td>\n",
       "      <td>0</td>\n",
       "      <td>0</td>\n",
       "      <td>0</td>\n",
       "      <td>0</td>\n",
       "      <td>0</td>\n",
       "      <td>0</td>\n",
       "      <td>0</td>\n",
       "      <td>0</td>\n",
       "      <td>...</td>\n",
       "      <td>1</td>\n",
       "      <td>0</td>\n",
       "      <td>0</td>\n",
       "      <td>0</td>\n",
       "      <td>1</td>\n",
       "      <td>0</td>\n",
       "      <td>0</td>\n",
       "      <td>0</td>\n",
       "      <td>0</td>\n",
       "      <td>1</td>\n",
       "    </tr>\n",
       "    <tr>\n",
       "      <th>209429</th>\n",
       "      <td>0</td>\n",
       "      <td>0</td>\n",
       "      <td>0</td>\n",
       "      <td>0</td>\n",
       "      <td>0</td>\n",
       "      <td>0</td>\n",
       "      <td>0</td>\n",
       "      <td>1</td>\n",
       "      <td>0</td>\n",
       "      <td>0</td>\n",
       "      <td>...</td>\n",
       "      <td>1</td>\n",
       "      <td>0</td>\n",
       "      <td>1</td>\n",
       "      <td>0</td>\n",
       "      <td>0</td>\n",
       "      <td>0</td>\n",
       "      <td>0</td>\n",
       "      <td>0</td>\n",
       "      <td>0</td>\n",
       "      <td>1</td>\n",
       "    </tr>\n",
       "  </tbody>\n",
       "</table>\n",
       "<p>209430 rows × 313 columns</p>\n",
       "</div>"
      ],
      "text/plain": [
       "        Product_Bank account or service  Product_Checking or savings account  \\\n",
       "0                                     0                                    0   \n",
       "1                                     1                                    0   \n",
       "2                                     1                                    0   \n",
       "3                                     0                                    0   \n",
       "4                                     0                                    0   \n",
       "...                                 ...                                  ...   \n",
       "209425                                0                                    0   \n",
       "209426                                0                                    0   \n",
       "209427                                0                                    0   \n",
       "209428                                1                                    0   \n",
       "209429                                0                                    0   \n",
       "\n",
       "        Product_Consumer Loan  Product_Credit card  Product_Credit reporting  \\\n",
       "0                           0                    0                         0   \n",
       "1                           0                    0                         0   \n",
       "2                           0                    0                         0   \n",
       "3                           0                    1                         0   \n",
       "4                           0                    0                         0   \n",
       "...                       ...                  ...                       ...   \n",
       "209425                      0                    0                         0   \n",
       "209426                      0                    0                         0   \n",
       "209427                      0                    0                         0   \n",
       "209428                      0                    0                         0   \n",
       "209429                      0                    0                         0   \n",
       "\n",
       "        Product_Debt collection  Product_Money transfers  Product_Mortgage  \\\n",
       "0                             0                        0                 1   \n",
       "1                             0                        0                 0   \n",
       "2                             0                        0                 0   \n",
       "3                             0                        0                 0   \n",
       "4                             0                        0                 1   \n",
       "...                         ...                      ...               ...   \n",
       "209425                        1                        0                 0   \n",
       "209426                        0                        0                 1   \n",
       "209427                        0                        0                 0   \n",
       "209428                        0                        0                 0   \n",
       "209429                        0                        0                 1   \n",
       "\n",
       "        Product_Other financial service  Product_Payday loan  ...  \\\n",
       "0                                     0                    0  ...   \n",
       "1                                     0                    0  ...   \n",
       "2                                     0                    0  ...   \n",
       "3                                     0                    0  ...   \n",
       "4                                     0                    0  ...   \n",
       "...                                 ...                  ...  ...   \n",
       "209425                                0                    0  ...   \n",
       "209426                                0                    0  ...   \n",
       "209427                                0                    0  ...   \n",
       "209428                                0                    0  ...   \n",
       "209429                                0                    0  ...   \n",
       "\n",
       "        Submitted via_Web  Company response to consumer_Closed  \\\n",
       "0                       1                                    0   \n",
       "1                       1                                    0   \n",
       "2                       1                                    0   \n",
       "3                       1                                    0   \n",
       "4                       1                                    0   \n",
       "...                   ...                                  ...   \n",
       "209425                  1                                    0   \n",
       "209426                  0                                    0   \n",
       "209427                  1                                    0   \n",
       "209428                  1                                    0   \n",
       "209429                  1                                    0   \n",
       "\n",
       "        Company response to consumer_Closed with explanation  \\\n",
       "0                                                       1      \n",
       "1                                                       0      \n",
       "2                                                       1      \n",
       "3                                                       1      \n",
       "4                                                       1      \n",
       "...                                                   ...      \n",
       "209425                                                  1      \n",
       "209426                                                  0      \n",
       "209427                                                  1      \n",
       "209428                                                  0      \n",
       "209429                                                  1      \n",
       "\n",
       "        Company response to consumer_Closed with monetary relief  \\\n",
       "0                                                       0          \n",
       "1                                                       1          \n",
       "2                                                       0          \n",
       "3                                                       0          \n",
       "4                                                       0          \n",
       "...                                                   ...          \n",
       "209425                                                  0          \n",
       "209426                                                  0          \n",
       "209427                                                  0          \n",
       "209428                                                  0          \n",
       "209429                                                  0          \n",
       "\n",
       "        Company response to consumer_Closed with non-monetary relief  \\\n",
       "0                                                       0              \n",
       "1                                                       0              \n",
       "2                                                       0              \n",
       "3                                                       0              \n",
       "4                                                       0              \n",
       "...                                                   ...              \n",
       "209425                                                  0              \n",
       "209426                                                  0              \n",
       "209427                                                  0              \n",
       "209428                                                  1              \n",
       "209429                                                  0              \n",
       "\n",
       "        Company response to consumer_Closed with relief  \\\n",
       "0                                                     0   \n",
       "1                                                     0   \n",
       "2                                                     0   \n",
       "3                                                     0   \n",
       "4                                                     0   \n",
       "...                                                 ...   \n",
       "209425                                                0   \n",
       "209426                                                0   \n",
       "209427                                                0   \n",
       "209428                                                0   \n",
       "209429                                                0   \n",
       "\n",
       "        Company response to consumer_Closed without relief  \\\n",
       "0                                                       0    \n",
       "1                                                       0    \n",
       "2                                                       0    \n",
       "3                                                       0    \n",
       "4                                                       0    \n",
       "...                                                   ...    \n",
       "209425                                                  0    \n",
       "209426                                                  1    \n",
       "209427                                                  0    \n",
       "209428                                                  0    \n",
       "209429                                                  0    \n",
       "\n",
       "        Company response to consumer_Untimely response  Timely response?_No  \\\n",
       "0                                                    0                    0   \n",
       "1                                                    0                    0   \n",
       "2                                                    0                    1   \n",
       "3                                                    0                    0   \n",
       "4                                                    0                    0   \n",
       "...                                                ...                  ...   \n",
       "209425                                               0                    0   \n",
       "209426                                               0                    0   \n",
       "209427                                               0                    0   \n",
       "209428                                               0                    0   \n",
       "209429                                               0                    0   \n",
       "\n",
       "        Timely response?_Yes  \n",
       "0                          1  \n",
       "1                          1  \n",
       "2                          0  \n",
       "3                          1  \n",
       "4                          1  \n",
       "...                      ...  \n",
       "209425                     1  \n",
       "209426                     1  \n",
       "209427                     1  \n",
       "209428                     1  \n",
       "209429                     1  \n",
       "\n",
       "[209430 rows x 313 columns]"
      ]
     },
     "execution_count": 128,
     "metadata": {},
     "output_type": "execute_result"
    }
   ],
   "source": [
    "# Let us see what X looks like\n",
    "\n",
    "print('X has the shape ',X.shape)\n",
    "\n",
    "X"
   ]
  },
  {
   "attachments": {},
   "cell_type": "markdown",
   "id": "da0e1b51-7674-49b9-8445-668d471e1439",
   "metadata": {},
   "source": [
    "**Let us get our _y_ variable** "
   ]
  },
  {
   "cell_type": "code",
   "execution_count": 129,
   "id": "3940c8f8-9b35-4067-80f7-7a017466dc1b",
   "metadata": {},
   "outputs": [],
   "source": [
    "y = complaints['Consumer disputed?']"
   ]
  },
  {
   "cell_type": "code",
   "execution_count": 130,
   "id": "e7ffb08b-8ee6-4693-a1b7-4231fd453bd3",
   "metadata": {},
   "outputs": [
    {
     "name": "stdout",
     "output_type": "stream",
     "text": [
      "['No' 'Yes']\n",
      "['No' 'Yes']\n",
      "\n",
      "Label mapping is: {0: 'No', 1: 'Yes'}\n"
     ]
    }
   ],
   "source": [
    "#But y contains text, and we need to have 0s and 1s.  We can try to use LabelEncoder to do that\n",
    "\n",
    "from sklearn import preprocessing\n",
    "\n",
    "labelE = preprocessing.LabelEncoder()\n",
    "y = labelE.fit_transform(complaints['Consumer disputed?'])\n",
    "print(labelE.classes_)\n",
    "print(labelE.inverse_transform(list(set(y))))\n",
    "\n",
    "labels = dict(zip(list(set(y)), labelE.inverse_transform(list(set(y)))))\n",
    "print(\"\\nLabel mapping is:\", labels)"
   ]
  },
  {
   "cell_type": "code",
   "execution_count": 131,
   "id": "ee1fe67d-3e53-457c-964b-4510b8424ae7",
   "metadata": {},
   "outputs": [
    {
     "data": {
      "text/plain": [
       "array([1, 0, 0, ..., 0, 0, 0])"
      ]
     },
     "execution_count": 131,
     "metadata": {},
     "output_type": "execute_result"
    }
   ],
   "source": [
    "y"
   ]
  },
  {
   "cell_type": "code",
   "execution_count": 132,
   "id": "dd708794-d5af-498d-9128-3d276b4fa7ee",
   "metadata": {},
   "outputs": [
    {
     "name": "stdout",
     "output_type": "stream",
     "text": [
      "0    164454\n",
      "1     44976\n",
      "dtype: int64 \n",
      "\n",
      "0    0.785246\n",
      "1    0.214754\n",
      "dtype: float64\n"
     ]
    }
   ],
   "source": [
    "# Let us do a value_counts() to check how many of each category. We convert it to a Pandas dataframe first.\n",
    "\n",
    "print(pd.DataFrame(y).value_counts(), '\\n')\n",
    "print(pd.DataFrame(y).value_counts(normalize=True))"
   ]
  },
  {
   "attachments": {},
   "cell_type": "markdown",
   "id": "6b39d9b8-27e6-4c60-888f-49e035957d3c",
   "metadata": {},
   "source": [
    "## Train-Test split \n",
    "\n",
    "We have our `X` and `y` defined.  Now let us do the train-test split"
   ]
  },
  {
   "cell_type": "code",
   "execution_count": 133,
   "id": "af7ff4d2-c796-43ca-ab31-f081167a2885",
   "metadata": {},
   "outputs": [],
   "source": [
    "from sklearn.model_selection import train_test_split\n",
    "\n",
    "X_train, X_test, y_train, y_test = train_test_split(X, y, test_size=0.2)"
   ]
  },
  {
   "cell_type": "code",
   "execution_count": 134,
   "id": "5f78991d-7604-4143-b47e-5e0825f0ef92",
   "metadata": {},
   "outputs": [
    {
     "name": "stdout",
     "output_type": "stream",
     "text": [
      "(167544, 313)\n",
      "(167544,)\n",
      "(41886, 313)\n",
      "(41886,)\n"
     ]
    }
   ],
   "source": [
    "# We check the shape of our X and y \n",
    "\n",
    "print(X_train.shape)\n",
    "print(y_train.shape)\n",
    "print(X_test.shape)\n",
    "print(y_test.shape)"
   ]
  },
  {
   "attachments": {},
   "cell_type": "markdown",
   "id": "0f04108c-e2b5-484c-a649-7d85999cb920",
   "metadata": {},
   "source": [
    "## Dealing with imbalanced data  \n",
    "\n",
    "Since we have an imbalanced dataset, we should try to do something to oversample the minority category, or undersample the majority.  We can undersample the data since it is large using Random Undersampling.\n",
    "\n",
    "#### Random Undersampling"
   ]
  },
  {
   "cell_type": "code",
   "execution_count": 135,
   "id": "9aaea156-3168-4a47-a9bd-8bbf3cb6b3ba",
   "metadata": {},
   "outputs": [],
   "source": [
    "from collections import Counter\n",
    "from sklearn.datasets import make_classification\n",
    "from imblearn.under_sampling import RandomUnderSampler "
   ]
  },
  {
   "cell_type": "code",
   "execution_count": 136,
   "id": "dbcd9b08-55e2-4685-85ad-954516a48ea8",
   "metadata": {},
   "outputs": [],
   "source": [
    "undersampler = RandomUnderSampler()\n",
    "X_train, y_train = undersampler.fit_resample(X, y)"
   ]
  },
  {
   "cell_type": "code",
   "execution_count": 137,
   "id": "74241821-01dc-4020-b8b8-6906a38fbd89",
   "metadata": {},
   "outputs": [
    {
     "data": {
      "text/plain": [
       "0.5"
      ]
     },
     "execution_count": 137,
     "metadata": {},
     "output_type": "execute_result"
    }
   ],
   "source": [
    "# Let us check if the dataset is balanced\n",
    "# just checking that the '1' category is exactly 50% of the training set\n",
    "\n",
    "y_train.sum()/len(y_train) "
   ]
  },
  {
   "cell_type": "code",
   "execution_count": 138,
   "id": "45910b70-5bf4-4ad9-8cf9-bb5481c02c3c",
   "metadata": {},
   "outputs": [
    {
     "data": {
      "text/plain": [
       "(89952, 313)"
      ]
     },
     "execution_count": 138,
     "metadata": {},
     "output_type": "execute_result"
    }
   ],
   "source": [
    "X_train.shape"
   ]
  },
  {
   "cell_type": "code",
   "execution_count": 139,
   "id": "dc3269f7-89a8-4609-9194-1b952db9fc53",
   "metadata": {},
   "outputs": [
    {
     "data": {
      "text/plain": [
       "0    44976\n",
       "1    44976\n",
       "dtype: int64"
      ]
     },
     "execution_count": 139,
     "metadata": {},
     "output_type": "execute_result"
    }
   ],
   "source": [
    "# Let us look at what y_train looks like, and the value_counts()\n",
    "\n",
    "pd.DataFrame(y_train).value_counts()"
   ]
  },
  {
   "cell_type": "code",
   "execution_count": 140,
   "id": "538ddaa9-39b8-44c7-b866-b2cc291451d4",
   "metadata": {},
   "outputs": [
    {
     "name": "stdout",
     "output_type": "stream",
     "text": [
      "(209430, 313)\n",
      "(89952, 313)\n",
      "(41886, 313)\n"
     ]
    }
   ],
   "source": [
    "print(X.shape)\n",
    "print(X_train.shape)\n",
    "print(X_test.shape)"
   ]
  },
  {
   "attachments": {},
   "cell_type": "markdown",
   "id": "45c0a416-e167-4b1c-a9a7-1017c3b8365a",
   "metadata": {},
   "source": [
    "**Now everything is set up, we have X_train, y_train, X_test, y_test and a perfectly balanced dataset.  We can now feed it to a model of our choice, and look at the results.**  \n",
    "\n",
    "## Fit a model using XGBoost"
   ]
  },
  {
   "cell_type": "code",
   "execution_count": 141,
   "id": "7cb198f5-65fe-4806-acf0-149cd70a1716",
   "metadata": {},
   "outputs": [
    {
     "name": "stdout",
     "output_type": "stream",
     "text": [
      "CPU times: user 2min 1s, sys: 3.82 s, total: 2min 5s\n",
      "Wall time: 20.1 s\n"
     ]
    },
    {
     "data": {
      "text/html": [
       "<style>#sk-container-id-2 {color: black;background-color: white;}#sk-container-id-2 pre{padding: 0;}#sk-container-id-2 div.sk-toggleable {background-color: white;}#sk-container-id-2 label.sk-toggleable__label {cursor: pointer;display: block;width: 100%;margin-bottom: 0;padding: 0.3em;box-sizing: border-box;text-align: center;}#sk-container-id-2 label.sk-toggleable__label-arrow:before {content: \"▸\";float: left;margin-right: 0.25em;color: #696969;}#sk-container-id-2 label.sk-toggleable__label-arrow:hover:before {color: black;}#sk-container-id-2 div.sk-estimator:hover label.sk-toggleable__label-arrow:before {color: black;}#sk-container-id-2 div.sk-toggleable__content {max-height: 0;max-width: 0;overflow: hidden;text-align: left;background-color: #f0f8ff;}#sk-container-id-2 div.sk-toggleable__content pre {margin: 0.2em;color: black;border-radius: 0.25em;background-color: #f0f8ff;}#sk-container-id-2 input.sk-toggleable__control:checked~div.sk-toggleable__content {max-height: 200px;max-width: 100%;overflow: auto;}#sk-container-id-2 input.sk-toggleable__control:checked~label.sk-toggleable__label-arrow:before {content: \"▾\";}#sk-container-id-2 div.sk-estimator input.sk-toggleable__control:checked~label.sk-toggleable__label {background-color: #d4ebff;}#sk-container-id-2 div.sk-label input.sk-toggleable__control:checked~label.sk-toggleable__label {background-color: #d4ebff;}#sk-container-id-2 input.sk-hidden--visually {border: 0;clip: rect(1px 1px 1px 1px);clip: rect(1px, 1px, 1px, 1px);height: 1px;margin: -1px;overflow: hidden;padding: 0;position: absolute;width: 1px;}#sk-container-id-2 div.sk-estimator {font-family: monospace;background-color: #f0f8ff;border: 1px dotted black;border-radius: 0.25em;box-sizing: border-box;margin-bottom: 0.5em;}#sk-container-id-2 div.sk-estimator:hover {background-color: #d4ebff;}#sk-container-id-2 div.sk-parallel-item::after {content: \"\";width: 100%;border-bottom: 1px solid gray;flex-grow: 1;}#sk-container-id-2 div.sk-label:hover label.sk-toggleable__label {background-color: #d4ebff;}#sk-container-id-2 div.sk-serial::before {content: \"\";position: absolute;border-left: 1px solid gray;box-sizing: border-box;top: 0;bottom: 0;left: 50%;z-index: 0;}#sk-container-id-2 div.sk-serial {display: flex;flex-direction: column;align-items: center;background-color: white;padding-right: 0.2em;padding-left: 0.2em;position: relative;}#sk-container-id-2 div.sk-item {position: relative;z-index: 1;}#sk-container-id-2 div.sk-parallel {display: flex;align-items: stretch;justify-content: center;background-color: white;position: relative;}#sk-container-id-2 div.sk-item::before, #sk-container-id-2 div.sk-parallel-item::before {content: \"\";position: absolute;border-left: 1px solid gray;box-sizing: border-box;top: 0;bottom: 0;left: 50%;z-index: -1;}#sk-container-id-2 div.sk-parallel-item {display: flex;flex-direction: column;z-index: 1;position: relative;background-color: white;}#sk-container-id-2 div.sk-parallel-item:first-child::after {align-self: flex-end;width: 50%;}#sk-container-id-2 div.sk-parallel-item:last-child::after {align-self: flex-start;width: 50%;}#sk-container-id-2 div.sk-parallel-item:only-child::after {width: 0;}#sk-container-id-2 div.sk-dashed-wrapped {border: 1px dashed gray;margin: 0 0.4em 0.5em 0.4em;box-sizing: border-box;padding-bottom: 0.4em;background-color: white;}#sk-container-id-2 div.sk-label label {font-family: monospace;font-weight: bold;display: inline-block;line-height: 1.2em;}#sk-container-id-2 div.sk-label-container {text-align: center;}#sk-container-id-2 div.sk-container {/* jupyter's `normalize.less` sets `[hidden] { display: none; }` but bootstrap.min.css set `[hidden] { display: none !important; }` so we also need the `!important` here to be able to override the default hidden behavior on the sphinx rendered scikit-learn.org. See: https://github.com/scikit-learn/scikit-learn/issues/21755 */display: inline-block !important;position: relative;}#sk-container-id-2 div.sk-text-repr-fallback {display: none;}</style><div id=\"sk-container-id-2\" class=\"sk-top-container\"><div class=\"sk-text-repr-fallback\"><pre>XGBClassifier(base_score=None, booster=None, callbacks=None,\n",
       "              colsample_bylevel=None, colsample_bynode=None,\n",
       "              colsample_bytree=None, early_stopping_rounds=None,\n",
       "              enable_categorical=False, eval_metric=None, feature_types=None,\n",
       "              gamma=None, gpu_id=None, grow_policy=None, importance_type=None,\n",
       "              interaction_constraints=None, learning_rate=None, max_bin=None,\n",
       "              max_cat_threshold=None, max_cat_to_onehot=None,\n",
       "              max_delta_step=None, max_depth=None, max_leaves=None,\n",
       "              min_child_weight=None, missing=nan, monotone_constraints=None,\n",
       "              n_estimators=100, n_jobs=None, num_parallel_tree=None,\n",
       "              predictor=None, random_state=None, ...)</pre><b>In a Jupyter environment, please rerun this cell to show the HTML representation or trust the notebook. <br />On GitHub, the HTML representation is unable to render, please try loading this page with nbviewer.org.</b></div><div class=\"sk-container\" hidden><div class=\"sk-item\"><div class=\"sk-estimator sk-toggleable\"><input class=\"sk-toggleable__control sk-hidden--visually\" id=\"sk-estimator-id-2\" type=\"checkbox\" checked><label for=\"sk-estimator-id-2\" class=\"sk-toggleable__label sk-toggleable__label-arrow\">XGBClassifier</label><div class=\"sk-toggleable__content\"><pre>XGBClassifier(base_score=None, booster=None, callbacks=None,\n",
       "              colsample_bylevel=None, colsample_bynode=None,\n",
       "              colsample_bytree=None, early_stopping_rounds=None,\n",
       "              enable_categorical=False, eval_metric=None, feature_types=None,\n",
       "              gamma=None, gpu_id=None, grow_policy=None, importance_type=None,\n",
       "              interaction_constraints=None, learning_rate=None, max_bin=None,\n",
       "              max_cat_threshold=None, max_cat_to_onehot=None,\n",
       "              max_delta_step=None, max_depth=None, max_leaves=None,\n",
       "              min_child_weight=None, missing=nan, monotone_constraints=None,\n",
       "              n_estimators=100, n_jobs=None, num_parallel_tree=None,\n",
       "              predictor=None, random_state=None, ...)</pre></div></div></div></div></div>"
      ],
      "text/plain": [
       "XGBClassifier(base_score=None, booster=None, callbacks=None,\n",
       "              colsample_bylevel=None, colsample_bynode=None,\n",
       "              colsample_bytree=None, early_stopping_rounds=None,\n",
       "              enable_categorical=False, eval_metric=None, feature_types=None,\n",
       "              gamma=None, gpu_id=None, grow_policy=None, importance_type=None,\n",
       "              interaction_constraints=None, learning_rate=None, max_bin=None,\n",
       "              max_cat_threshold=None, max_cat_to_onehot=None,\n",
       "              max_delta_step=None, max_depth=None, max_leaves=None,\n",
       "              min_child_weight=None, missing=nan, monotone_constraints=None,\n",
       "              n_estimators=100, n_jobs=None, num_parallel_tree=None,\n",
       "              predictor=None, random_state=None, ...)"
      ]
     },
     "execution_count": 141,
     "metadata": {},
     "output_type": "execute_result"
    }
   ],
   "source": [
    "%%time\n",
    "# Fit the model\n",
    "from xgboost import XGBClassifier\n",
    "\n",
    "model_xgb = XGBClassifier(use_label_encoder=False, objective= 'binary:logistic')\n",
    "model_xgb.fit(X_train, y_train)"
   ]
  },
  {
   "cell_type": "code",
   "execution_count": 142,
   "id": "5407a3c1-e1f8-4afb-a36c-76bff3f6a8f6",
   "metadata": {},
   "outputs": [],
   "source": [
    "# Perform predictions, and store the results in a variable called 'pred'\n",
    "pred = model_xgb.predict(X_test)"
   ]
  },
  {
   "cell_type": "code",
   "execution_count": 143,
   "id": "684c63f0-2b34-4b32-8fb8-5dd5437c545b",
   "metadata": {},
   "outputs": [
    {
     "name": "stdout",
     "output_type": "stream",
     "text": [
      "              precision    recall  f1-score   support\n",
      "\n",
      "           0       0.86      0.53      0.66     32969\n",
      "           1       0.28      0.67      0.39      8917\n",
      "\n",
      "    accuracy                           0.56     41886\n",
      "   macro avg       0.57      0.60      0.52     41886\n",
      "weighted avg       0.73      0.56      0.60     41886\n",
      "\n"
     ]
    },
    {
     "data": {
      "text/plain": [
       "<sklearn.metrics._plot.confusion_matrix.ConfusionMatrixDisplay at 0x295ef83a0>"
      ]
     },
     "execution_count": 143,
     "metadata": {},
     "output_type": "execute_result"
    },
    {
     "data": {
      "image/png": "[encoded data removed]",
      "text/plain": [
       "<Figure size 432x288 with 2 Axes>"
      ]
     },
     "metadata": {
      "needs_background": "light"
     },
     "output_type": "display_data"
    }
   ],
   "source": [
    "# Check the classification report and the confusion matrix\n",
    "\n",
    "from sklearn.metrics import confusion_matrix, accuracy_score, classification_report, ConfusionMatrixDisplay, precision_score, recall_score\n",
    "from tqdm import tqdm\n",
    "\n",
    "print(classification_report(y_true = y_test, y_pred = pred))\n",
    "\n",
    "cm = confusion_matrix(y_test, pred)\n",
    "ConfusionMatrixDisplay(confusion_matrix=cm).plot()"
   ]
  },
  {
   "cell_type": "code",
   "execution_count": 144,
   "id": "9c331030-5fbd-4c52-ad3a-16640768cdd3",
   "metadata": {},
   "outputs": [
    {
     "name": "stdout",
     "output_type": "stream",
     "text": [
      "Label mapping is: {0: 'No', 1: 'Yes'}\n"
     ]
    }
   ],
   "source": [
    "# Let us look at label mappings to check what 0 and 1 mean\n",
    "# Looks like \"0\" means NoDispute, and \"1\" means \"Dispute\"\n",
    "\n",
    "print(\"Label mapping is:\", labels)"
   ]
  },
  {
   "attachments": {},
   "cell_type": "markdown",
   "id": "62f131bc-7de9-40f7-80ad-d70c6e471aee",
   "metadata": {},
   "source": [
    "## Calculating Total Cost in Dollars    \n",
    "The confusion matrix has 4 cells.  Each one has a different 'cost'.  Let us look at each:\n",
    "\n",
    "> First cell (yellow cell, 1st row, 1st col): True NoDispute: Model predicted NoDispute, and customer did not dispute either.\n",
    "> Here, we know we will pay $100 as \"On average, it costs the banks \\\\$100 to resolve, respond to and close a complaint that is not disputed\".\n",
    "\n",
    "> Second cell (green cell, 1st row 2nd col): False Dispute: Model predicted Dispute and customer did not dispute.\n",
    "> Here, we will end up investigating and performing additional due diligence at the cost of \\\\$90 over and above the $100 that has to be spent in any case.  So the cost of the entries in this cell are \\\\$190.\n",
    "\n",
    "> Third cell (purple cell, 2nd row 1st col): False NoDispute: Model predicted NoDispute, but customer disputed.\n",
    "> Here we will spend an extra \\\\$500 in addition to the \\\\$100, so there will be a total cost of \\\\$600.\n",
    "\n",
    "> Fourth cell (blue cell, 2nd row, 2nd col): Model predicted Dispute, and customer actually disputed too.  \n",
    "> Here we will spend the \\\\$90 for the cost of additional due diligence over and above the \\\\$100 that needs to be spent anyway.  So the total cost of any cases in this cell will be \\\\$190\n",
    "\n",
    "Let us calculate the total cost based on our confusion matrix.  The confusion matrix has the false positives and the false negatives in the cells outside the main diagonal.  "
   ]
  },
  {
   "cell_type": "code",
   "execution_count": 145,
   "id": "f6a5336e-8114-4753-955b-33041b5fadbd",
   "metadata": {},
   "outputs": [],
   "source": [
    "# Cost when model predicts dispute and actually disputed\n",
    "True_NoDispute_Cost = 100 * cm[0, 0]\n",
    "\n",
    "# Cost when model predicts dispute and no actual dispute \n",
    "False_Dispute_Cost = 190 * cm[0,1]\n",
    "\n",
    "# Cost when model predicts NoDispute and actually disputed\n",
    "False_NoDispute_Cost = 600 * cm[1,0]\n",
    "\n",
    "# Cost when model predicts NoDispute correctly\n",
    "True_Dispute_Cost = 190 * cm[1,1]"
   ]
  },
  {
   "cell_type": "code",
   "execution_count": 146,
   "id": "5ca6bff3-a0c5-4fd7-98c0-b40c56be4d66",
   "metadata": {},
   "outputs": [
    {
     "name": "stdout",
     "output_type": "stream",
     "text": [
      "Total_cost in Dollars before changing the threshold: 7591600\n"
     ]
    }
   ],
   "source": [
    "Total_cost = True_NoDispute_Cost + False_Dispute_Cost + False_NoDispute_Cost + True_Dispute_Cost\n",
    "print(f\"Total_cost in Dollars before changing the threshold: {Total_cost}\")"
   ]
  },
  {
   "cell_type": "code",
   "execution_count": 147,
   "id": "b5be2dcb-ba24-440b-aae1-d7dd5df6fe99",
   "metadata": {},
   "outputs": [
    {
     "name": "stdout",
     "output_type": "stream",
     "text": [
      "Confusion Matrix : \n",
      " [[  106 32863]\n",
      " [    0  8917]]\n",
      "Test accuracy =  0.21541803944038582\n",
      "              precision    recall  f1-score   support\n",
      "\n",
      "           0       1.00      0.00      0.01     32969\n",
      "           1       0.21      1.00      0.35      8917\n",
      "\n",
      "    accuracy                           0.22     41886\n",
      "   macro avg       0.61      0.50      0.18     41886\n",
      "weighted avg       0.83      0.22      0.08     41886\n",
      "\n"
     ]
    },
    {
     "data": {
      "image/png": "[encoded data removed]",
      "text/plain": [
       "<Figure size 432x288 with 2 Axes>"
      ]
     },
     "metadata": {
      "needs_background": "light"
     },
     "output_type": "display_data"
    }
   ],
   "source": [
    "# Set threshold for identifying class 1\n",
    "threshold = 0.1\n",
    "\n",
    "# Create predictions.  Note that predictions give us probabilities, not classes!\n",
    "pred_prob = model_xgb.predict_proba(X_test)\n",
    "\n",
    "# We drop the probabilities for class 0, and keep just the second column\n",
    "pred_prob = pred_prob[:,1]\n",
    "\n",
    "# Convert probabilities to 1s and 0s based on threshold for Class 1\n",
    "pred = (pred_prob>threshold).astype(int)\n",
    "\n",
    "# confusion matrix\n",
    "cm = confusion_matrix(y_test, pred)\n",
    "print (\"Confusion Matrix : \\n\", cm)\n",
    "ConfusionMatrixDisplay(confusion_matrix=cm).plot();\n",
    "\n",
    "# accuracy score of the model\n",
    "print('Test accuracy = ', accuracy_score(y_test, pred))\n",
    "print(classification_report(y_true = y_test, y_pred = pred))"
   ]
  },
  {
   "attachments": {},
   "cell_type": "markdown",
   "id": "d60adb6d-5950-4a88-b439-a1686fdc532b",
   "metadata": {},
   "source": [
    "So we see that recall has gone up to 90% from a lower number earlier."
   ]
  },
  {
   "cell_type": "code",
   "execution_count": 148,
   "id": "12d77c93-020e-4af2-abec-e8df4787581a",
   "metadata": {},
   "outputs": [
    {
     "data": {
      "text/plain": [
       "array([0.5829874 , 0.41657645, 0.54077727, ..., 0.5668447 , 0.22026256,\n",
       "       0.21916826], dtype=float32)"
      ]
     },
     "execution_count": 148,
     "metadata": {},
     "output_type": "execute_result"
    }
   ],
   "source": [
    "# See what predicted probabilities look like\n",
    "pred_prob"
   ]
  },
  {
   "attachments": {},
   "cell_type": "markdown",
   "id": "f1d47106-c162-485a-883f-0d338af7ea48",
   "metadata": {},
   "source": [
    "**Calculating Total Cost in Dollars**  \n",
    "\n",
    "Let us calculate the total cost based on our confusion matrix.  Just like we did before, no change to the logic."
   ]
  },
  {
   "cell_type": "code",
   "execution_count": 149,
   "id": "13c5436b-d4eb-4db9-8d35-491e63c90b3d",
   "metadata": {},
   "outputs": [],
   "source": [
    "# Cost when model predicts dispute and actually disputed\n",
    "True_NoDispute_Cost = 100 * cm[0, 0]\n",
    "\n",
    "# Cost when model predicts dispute and no actual dispute \n",
    "False_Dispute_Cost = 190 * cm[0,1]\n",
    "\n",
    "# Cost when model predicts NoDispute and actually disputed\n",
    "False_NoDispute_Cost = 600 * cm[1,0]\n",
    "\n",
    "# Cost when model predicts NoDispute correctly\n",
    "True_Dispute_Cost = 190 * cm[1,1]"
   ]
  },
  {
   "cell_type": "code",
   "execution_count": 150,
   "id": "b6dcee92-35a1-46ad-b303-a3009bcb81a2",
   "metadata": {},
   "outputs": [
    {
     "name": "stdout",
     "output_type": "stream",
     "text": [
      "Total_cost in Dollars when threshold is 0.1 for Class 1 : 7948800\n"
     ]
    }
   ],
   "source": [
    "Total_cost = True_NoDispute_Cost + False_Dispute_Cost + False_NoDispute_Cost + True_Dispute_Cost\n",
    "print(f\"Total_cost in Dollars when threshold is 0.1 for Class 1 : {Total_cost}\")"
   ]
  },
  {
   "cell_type": "code",
   "execution_count": 151,
   "id": "7a765e8c-cc44-4f07-aa63-e244770c1791",
   "metadata": {},
   "outputs": [
    {
     "name": "stderr",
     "output_type": "stream",
     "text": [
      "100%|██████████| 100/100 [00:06<00:00, 15.65it/s]"
     ]
    },
    {
     "name": "stdout",
     "output_type": "stream",
     "text": [
      "CPU times: user 29.8 s, sys: 7.84 s, total: 37.6 s\n",
      "Wall time: 6.46 s\n"
     ]
    },
    {
     "name": "stderr",
     "output_type": "stream",
     "text": [
      "\n"
     ]
    },
    {
     "data": {
      "text/html": [
       "<div>\n",
       "<style scoped>\n",
       "    .dataframe tbody tr th:only-of-type {\n",
       "        vertical-align: middle;\n",
       "    }\n",
       "\n",
       "    .dataframe tbody tr th {\n",
       "        vertical-align: top;\n",
       "    }\n",
       "\n",
       "    .dataframe thead th {\n",
       "        text-align: right;\n",
       "    }\n",
       "</style>\n",
       "<table border=\"1\" class=\"dataframe\">\n",
       "  <thead>\n",
       "    <tr style=\"text-align: right;\">\n",
       "      <th></th>\n",
       "      <th>index</th>\n",
       "      <th>threshold</th>\n",
       "      <th>accuracy</th>\n",
       "      <th>precision</th>\n",
       "      <th>recall</th>\n",
       "      <th>True_NoDispute_Cost</th>\n",
       "      <th>False_Dispute_Cost</th>\n",
       "      <th>False_NoDispute_Cost</th>\n",
       "      <th>True_Dispute_Cost</th>\n",
       "      <th>Total_cost</th>\n",
       "    </tr>\n",
       "  </thead>\n",
       "  <tbody>\n",
       "    <tr>\n",
       "      <th>0</th>\n",
       "      <td>0</td>\n",
       "      <td>0.00</td>\n",
       "      <td>0.212887</td>\n",
       "      <td>0.212887</td>\n",
       "      <td>1.0</td>\n",
       "      <td>0</td>\n",
       "      <td>6264110</td>\n",
       "      <td>0</td>\n",
       "      <td>1694230</td>\n",
       "      <td>7958340</td>\n",
       "    </tr>\n",
       "    <tr>\n",
       "      <th>1</th>\n",
       "      <td>0</td>\n",
       "      <td>0.01</td>\n",
       "      <td>0.212959</td>\n",
       "      <td>0.212903</td>\n",
       "      <td>1.0</td>\n",
       "      <td>300</td>\n",
       "      <td>6263540</td>\n",
       "      <td>0</td>\n",
       "      <td>1694230</td>\n",
       "      <td>7958070</td>\n",
       "    </tr>\n",
       "    <tr>\n",
       "      <th>2</th>\n",
       "      <td>0</td>\n",
       "      <td>0.02</td>\n",
       "      <td>0.213269</td>\n",
       "      <td>0.212969</td>\n",
       "      <td>1.0</td>\n",
       "      <td>1600</td>\n",
       "      <td>6261070</td>\n",
       "      <td>0</td>\n",
       "      <td>1694230</td>\n",
       "      <td>7956900</td>\n",
       "    </tr>\n",
       "    <tr>\n",
       "      <th>3</th>\n",
       "      <td>0</td>\n",
       "      <td>0.03</td>\n",
       "      <td>0.213460</td>\n",
       "      <td>0.213009</td>\n",
       "      <td>1.0</td>\n",
       "      <td>2400</td>\n",
       "      <td>6259550</td>\n",
       "      <td>0</td>\n",
       "      <td>1694230</td>\n",
       "      <td>7956180</td>\n",
       "    </tr>\n",
       "    <tr>\n",
       "      <th>4</th>\n",
       "      <td>0</td>\n",
       "      <td>0.04</td>\n",
       "      <td>0.213508</td>\n",
       "      <td>0.213020</td>\n",
       "      <td>1.0</td>\n",
       "      <td>2600</td>\n",
       "      <td>6259170</td>\n",
       "      <td>0</td>\n",
       "      <td>1694230</td>\n",
       "      <td>7956000</td>\n",
       "    </tr>\n",
       "    <tr>\n",
       "      <th>...</th>\n",
       "      <td>...</td>\n",
       "      <td>...</td>\n",
       "      <td>...</td>\n",
       "      <td>...</td>\n",
       "      <td>...</td>\n",
       "      <td>...</td>\n",
       "      <td>...</td>\n",
       "      <td>...</td>\n",
       "      <td>...</td>\n",
       "      <td>...</td>\n",
       "    </tr>\n",
       "    <tr>\n",
       "      <th>95</th>\n",
       "      <td>0</td>\n",
       "      <td>0.95</td>\n",
       "      <td>0.787113</td>\n",
       "      <td>0.000000</td>\n",
       "      <td>0.0</td>\n",
       "      <td>3296900</td>\n",
       "      <td>0</td>\n",
       "      <td>5350200</td>\n",
       "      <td>0</td>\n",
       "      <td>8647100</td>\n",
       "    </tr>\n",
       "    <tr>\n",
       "      <th>96</th>\n",
       "      <td>0</td>\n",
       "      <td>0.96</td>\n",
       "      <td>0.787113</td>\n",
       "      <td>0.000000</td>\n",
       "      <td>0.0</td>\n",
       "      <td>3296900</td>\n",
       "      <td>0</td>\n",
       "      <td>5350200</td>\n",
       "      <td>0</td>\n",
       "      <td>8647100</td>\n",
       "    </tr>\n",
       "    <tr>\n",
       "      <th>97</th>\n",
       "      <td>0</td>\n",
       "      <td>0.97</td>\n",
       "      <td>0.787113</td>\n",
       "      <td>0.000000</td>\n",
       "      <td>0.0</td>\n",
       "      <td>3296900</td>\n",
       "      <td>0</td>\n",
       "      <td>5350200</td>\n",
       "      <td>0</td>\n",
       "      <td>8647100</td>\n",
       "    </tr>\n",
       "    <tr>\n",
       "      <th>98</th>\n",
       "      <td>0</td>\n",
       "      <td>0.98</td>\n",
       "      <td>0.787113</td>\n",
       "      <td>0.000000</td>\n",
       "      <td>0.0</td>\n",
       "      <td>3296900</td>\n",
       "      <td>0</td>\n",
       "      <td>5350200</td>\n",
       "      <td>0</td>\n",
       "      <td>8647100</td>\n",
       "    </tr>\n",
       "    <tr>\n",
       "      <th>99</th>\n",
       "      <td>0</td>\n",
       "      <td>0.99</td>\n",
       "      <td>0.787113</td>\n",
       "      <td>0.000000</td>\n",
       "      <td>0.0</td>\n",
       "      <td>3296900</td>\n",
       "      <td>0</td>\n",
       "      <td>5350200</td>\n",
       "      <td>0</td>\n",
       "      <td>8647100</td>\n",
       "    </tr>\n",
       "  </tbody>\n",
       "</table>\n",
       "<p>100 rows × 10 columns</p>\n",
       "</div>"
      ],
      "text/plain": [
       "    index  threshold  accuracy  precision  recall  True_NoDispute_Cost  \\\n",
       "0       0       0.00  0.212887   0.212887     1.0                    0   \n",
       "1       0       0.01  0.212959   0.212903     1.0                  300   \n",
       "2       0       0.02  0.213269   0.212969     1.0                 1600   \n",
       "3       0       0.03  0.213460   0.213009     1.0                 2400   \n",
       "4       0       0.04  0.213508   0.213020     1.0                 2600   \n",
       "..    ...        ...       ...        ...     ...                  ...   \n",
       "95      0       0.95  0.787113   0.000000     0.0              3296900   \n",
       "96      0       0.96  0.787113   0.000000     0.0              3296900   \n",
       "97      0       0.97  0.787113   0.000000     0.0              3296900   \n",
       "98      0       0.98  0.787113   0.000000     0.0              3296900   \n",
       "99      0       0.99  0.787113   0.000000     0.0              3296900   \n",
       "\n",
       "    False_Dispute_Cost  False_NoDispute_Cost  True_Dispute_Cost  Total_cost  \n",
       "0              6264110                     0            1694230     7958340  \n",
       "1              6263540                     0            1694230     7958070  \n",
       "2              6261070                     0            1694230     7956900  \n",
       "3              6259550                     0            1694230     7956180  \n",
       "4              6259170                     0            1694230     7956000  \n",
       "..                 ...                   ...                ...         ...  \n",
       "95                   0               5350200                  0     8647100  \n",
       "96                   0               5350200                  0     8647100  \n",
       "97                   0               5350200                  0     8647100  \n",
       "98                   0               5350200                  0     8647100  \n",
       "99                   0               5350200                  0     8647100  \n",
       "\n",
       "[100 rows x 10 columns]"
      ]
     },
     "execution_count": 151,
     "metadata": {},
     "output_type": "execute_result"
    }
   ],
   "source": [
    "%%time\n",
    "# Set threshold for identifying class 1\n",
    "threshold = 0.0001\n",
    "appended_data = []\n",
    "\n",
    "for threshold in tqdm(np.arange(0,1,.01)):\n",
    "    # Create predictions.  Note that predictions give us probabilities, not classes!\n",
    "    pred_prob = model_xgb.predict_proba(X_test)\n",
    "\n",
    "    # We drop the probabilities for class 0, and keep just the second column\n",
    "    pred_prob = pred_prob[:,1]\n",
    "\n",
    "    # Convert probabilities to 1s and 0s based on threshold\n",
    "    pred = (pred_prob>threshold).astype(int)\n",
    "\n",
    "    # confusion matrix\n",
    "    cm = confusion_matrix(y_test, pred)\n",
    "    \n",
    "    # accuracy score of the model\n",
    "    accuracy = accuracy_score(y_test, pred)\n",
    "    precision = precision_score(y_test, pred,zero_division=0)\n",
    "    recall = recall_score(y_test, pred)\n",
    "    \n",
    "    # Cost when model predicts dispute and actually disputed\n",
    "    True_NoDispute_Cost = 100 * cm[0, 0]\n",
    "\n",
    "    # Cost when model predicts dispute and no actual dispute \n",
    "    False_Dispute_Cost = 190 * cm[0,1]\n",
    "\n",
    "    # Cost when model predicts NoDispute and actually disputed\n",
    "    False_NoDispute_Cost = 600 * cm[1,0]\n",
    "\n",
    "    # Cost when model predicts NoDispute correctly\n",
    "    True_Dispute_Cost = 190 * cm[1,1]\n",
    "    \n",
    "    Total_cost = True_NoDispute_Cost + False_Dispute_Cost + False_NoDispute_Cost + True_Dispute_Cost\n",
    "    Total_cost\n",
    "    \n",
    "    data = pd.DataFrame({'threshold':[threshold], 'accuracy': [accuracy], \n",
    "                         'precision':[precision], 'recall':[recall],\n",
    "                         'True_NoDispute_Cost':[True_NoDispute_Cost], \n",
    "                         'False_Dispute_Cost':[False_Dispute_Cost], \n",
    "                         'False_NoDispute_Cost':[False_NoDispute_Cost],\n",
    "                         'True_Dispute_Cost':[True_Dispute_Cost],\n",
    "                         'Total_cost':[Total_cost]})\n",
    "    appended_data.append(data)\n",
    "    \n",
    "    \n",
    "\n",
    "appended_data = pd.concat(appended_data)    \n",
    "\n",
    "appended_data.reset_index()"
   ]
  },
  {
   "cell_type": "code",
   "execution_count": 152,
   "id": "9c0ffbb3-614d-4c90-bfb1-db2376063e7b",
   "metadata": {},
   "outputs": [
    {
     "data": {
      "text/plain": [
       "<Axes: xlabel='threshold', ylabel='Total_cost'>"
      ]
     },
     "execution_count": 152,
     "metadata": {},
     "output_type": "execute_result"
    },
    {
     "data": {
      "image/png": "[encoded data removed]",
      "text/plain": [
       "<Figure size 432x288 with 1 Axes>"
      ]
     },
     "metadata": {
      "needs_background": "light"
     },
     "output_type": "display_data"
    }
   ],
   "source": [
    "# appended_data.to_excel('temp.xlsx')\n",
    "\n",
    "sns.scatterplot(data = appended_data, y = 'Total_cost', x = 'threshold')"
   ]
  },
  {
   "cell_type": "code",
   "execution_count": 153,
   "id": "fbd5b79d-441b-4d1f-8414-bc741bcb221b",
   "metadata": {},
   "outputs": [
    {
     "name": "stdout",
     "output_type": "stream",
     "text": [
      "                                0\n",
      "threshold                   0.460\n",
      "accuracy                    0.468\n",
      "precision                   0.261\n",
      "recall                      0.817\n",
      "True_NoDispute_Cost   1229800.000\n",
      "False_Dispute_Cost    3927490.000\n",
      "False_NoDispute_Cost   978000.000\n",
      "True_Dispute_Cost     1384530.000\n",
      "Total_cost            7519820.000\n"
     ]
    }
   ],
   "source": [
    "print(round(appended_data[appended_data.Total_cost == appended_data.Total_cost.min()].transpose(),3))"
   ]
  },
  {
   "attachments": {},
   "cell_type": "markdown",
   "id": "09a0687d-33ad-4a1f-a709-290bd6750a19",
   "metadata": {},
   "source": [
    "So the minimum cost occurs at a threshold of 0.45, and the cost is $7.56 mm."
   ]
  },
  {
   "cell_type": "code",
   "execution_count": 154,
   "id": "8264dfe6-cd28-4523-9d29-5f0e6f05911d",
   "metadata": {},
   "outputs": [
    {
     "data": {
      "text/plain": [
       "0.6447539476841868"
      ]
     },
     "execution_count": 154,
     "metadata": {},
     "output_type": "execute_result"
    }
   ],
   "source": [
    "# AUC calculation\n",
    "\n",
    "from sklearn import metrics\n",
    "\n",
    "metrics.roc_auc_score(y_test, pred_prob)"
   ]
  },
  {
   "cell_type": "code",
   "execution_count": 155,
   "id": "82ac50a9-27e3-47e0-a8f3-8fe3b11c0d38",
   "metadata": {},
   "outputs": [
    {
     "data": {
      "image/png": "[encoded data removed]",
      "text/plain": [
       "<Figure size 648x576 with 1 Axes>"
      ]
     },
     "metadata": {
      "needs_background": "light"
     },
     "output_type": "display_data"
    }
   ],
   "source": [
    "# Source for code below: https://stackoverflow.com/questions/25009284/how-to-plot-roc-curve-in-python\n",
    "\n",
    "fpr, tpr, thresholds = metrics.roc_curve(y_test, pred_prob)\n",
    "roc_auc = metrics.auc(fpr, tpr)\n",
    "plt.figure(figsize = (9,8))\n",
    "plt.title('Receiver Operating Characteristic')\n",
    "plt.plot(fpr, tpr, 'b', label = 'AUC = %0.2f' % roc_auc)\n",
    "plt.legend(loc = 'lower right')\n",
    "plt.plot([0, 1], [0, 1],'r--')\n",
    "plt.xlim([0, 1])\n",
    "plt.ylim([0, 1])\n",
    "plt.ylabel('True Positive Rate')\n",
    "plt.xlabel('False Positive Rate')\n",
    "plt.show()"
   ]
  },
  {
   "cell_type": "code",
   "execution_count": 156,
   "id": "cac73508-5a36-462a-a57b-c2bab0587161",
   "metadata": {},
   "outputs": [
    {
     "data": {
      "text/html": [
       "<div>\n",
       "<style scoped>\n",
       "    .dataframe tbody tr th:only-of-type {\n",
       "        vertical-align: middle;\n",
       "    }\n",
       "\n",
       "    .dataframe tbody tr th {\n",
       "        vertical-align: top;\n",
       "    }\n",
       "\n",
       "    .dataframe thead th {\n",
       "        text-align: right;\n",
       "    }\n",
       "</style>\n",
       "<table border=\"1\" class=\"dataframe\">\n",
       "  <thead>\n",
       "    <tr style=\"text-align: right;\">\n",
       "      <th></th>\n",
       "      <th>TPR</th>\n",
       "      <th>FPR</th>\n",
       "      <th>Threshold</th>\n",
       "    </tr>\n",
       "  </thead>\n",
       "  <tbody>\n",
       "    <tr>\n",
       "      <th>0</th>\n",
       "      <td>1.000000</td>\n",
       "      <td>1.000000</td>\n",
       "      <td>0.007574</td>\n",
       "    </tr>\n",
       "    <tr>\n",
       "      <th>1</th>\n",
       "      <td>1.000000</td>\n",
       "      <td>0.999151</td>\n",
       "      <td>0.058403</td>\n",
       "    </tr>\n",
       "    <tr>\n",
       "      <th>2</th>\n",
       "      <td>1.000000</td>\n",
       "      <td>0.998696</td>\n",
       "      <td>0.075748</td>\n",
       "    </tr>\n",
       "    <tr>\n",
       "      <th>3</th>\n",
       "      <td>1.000000</td>\n",
       "      <td>0.998665</td>\n",
       "      <td>0.079022</td>\n",
       "    </tr>\n",
       "    <tr>\n",
       "      <th>4</th>\n",
       "      <td>1.000000</td>\n",
       "      <td>0.998483</td>\n",
       "      <td>0.080211</td>\n",
       "    </tr>\n",
       "    <tr>\n",
       "      <th>...</th>\n",
       "      <td>...</td>\n",
       "      <td>...</td>\n",
       "      <td>...</td>\n",
       "    </tr>\n",
       "    <tr>\n",
       "      <th>13419</th>\n",
       "      <td>0.000561</td>\n",
       "      <td>0.000152</td>\n",
       "      <td>0.880191</td>\n",
       "    </tr>\n",
       "    <tr>\n",
       "      <th>13420</th>\n",
       "      <td>0.000449</td>\n",
       "      <td>0.000121</td>\n",
       "      <td>0.880579</td>\n",
       "    </tr>\n",
       "    <tr>\n",
       "      <th>13421</th>\n",
       "      <td>0.000000</td>\n",
       "      <td>0.000121</td>\n",
       "      <td>0.889675</td>\n",
       "    </tr>\n",
       "    <tr>\n",
       "      <th>13422</th>\n",
       "      <td>0.000000</td>\n",
       "      <td>0.000030</td>\n",
       "      <td>0.944476</td>\n",
       "    </tr>\n",
       "    <tr>\n",
       "      <th>13423</th>\n",
       "      <td>0.000000</td>\n",
       "      <td>0.000000</td>\n",
       "      <td>1.944476</td>\n",
       "    </tr>\n",
       "  </tbody>\n",
       "</table>\n",
       "<p>13424 rows × 3 columns</p>\n",
       "</div>"
      ],
      "text/plain": [
       "            TPR       FPR  Threshold\n",
       "0      1.000000  1.000000   0.007574\n",
       "1      1.000000  0.999151   0.058403\n",
       "2      1.000000  0.998696   0.075748\n",
       "3      1.000000  0.998665   0.079022\n",
       "4      1.000000  0.998483   0.080211\n",
       "...         ...       ...        ...\n",
       "13419  0.000561  0.000152   0.880191\n",
       "13420  0.000449  0.000121   0.880579\n",
       "13421  0.000000  0.000121   0.889675\n",
       "13422  0.000000  0.000030   0.944476\n",
       "13423  0.000000  0.000000   1.944476\n",
       "\n",
       "[13424 rows x 3 columns]"
      ]
     },
     "execution_count": 156,
     "metadata": {},
     "output_type": "execute_result"
    }
   ],
   "source": [
    "pd.DataFrame({'TPR': tpr, 'FPR': fpr, 'Threshold': thresholds}).sort_values(by = ['Threshold']).reset_index(drop=True)"
   ]
  },
  {
   "attachments": {},
   "cell_type": "markdown",
   "id": "e376fee0-337b-4d85-93fa-068036cf6d30",
   "metadata": {},
   "source": [
    "## Fit a model using Neural Network"
   ]
  },
  {
   "cell_type": "code",
   "execution_count": 157,
   "id": "ae83829d-7d92-4d86-9343-3cfddc2cc51d",
   "metadata": {},
   "outputs": [],
   "source": [
    "from sklearn.model_selection import train_test_split\n",
    "\n",
    "X_train, X_test, y_train, y_test = train_test_split(X, y, test_size=0.2)"
   ]
  },
  {
   "attachments": {},
   "cell_type": "markdown",
   "id": "4658cb6e-9f2e-483b-852c-215fd3d3ebc4",
   "metadata": {},
   "source": [
    "## Dealing with imbalanced data  \n",
    "\n",
    "Since we have an imbalanced dataset, we should try to do something to oversample the minority category, or undersample the majority.  We can undersample the data since it is large using Random Undersampling.\n",
    "\n",
    "#### Random Undersampling"
   ]
  },
  {
   "cell_type": "code",
   "execution_count": 158,
   "id": "ed8bd55b-6e15-4a23-b32b-13b50c0e56c4",
   "metadata": {},
   "outputs": [],
   "source": [
    "from collections import Counter\n",
    "from sklearn.datasets import make_classification\n",
    "from imblearn.under_sampling import RandomUnderSampler "
   ]
  },
  {
   "cell_type": "code",
   "execution_count": 159,
   "id": "4962758b-e431-4fd7-9efe-b4743cd2ff37",
   "metadata": {},
   "outputs": [],
   "source": [
    "undersampler = RandomUnderSampler()\n",
    "X_train, y_train = undersampler.fit_resample(X, y)"
   ]
  },
  {
   "cell_type": "code",
   "execution_count": 160,
   "id": "a9b791e0-3193-471b-afa8-fcb2b93955fc",
   "metadata": {},
   "outputs": [
    {
     "data": {
      "text/plain": [
       "0.5"
      ]
     },
     "execution_count": 160,
     "metadata": {},
     "output_type": "execute_result"
    }
   ],
   "source": [
    "# Let us check if the dataset is balanced\n",
    "# just checking that the '1' category is exactly 50% of the training set\n",
    "\n",
    "y_train.sum()/len(y_train) "
   ]
  },
  {
   "cell_type": "code",
   "execution_count": 161,
   "id": "fd7cf648-8e17-410f-8c8c-6e3e8ebb1773",
   "metadata": {},
   "outputs": [
    {
     "data": {
      "text/plain": [
       "(89952, 313)"
      ]
     },
     "execution_count": 161,
     "metadata": {},
     "output_type": "execute_result"
    }
   ],
   "source": [
    "X_train.shape"
   ]
  },
  {
   "cell_type": "code",
   "execution_count": 162,
   "id": "9c1d8548-7fb4-43fe-8e0f-42dbd386bf43",
   "metadata": {},
   "outputs": [
    {
     "data": {
      "text/plain": [
       "0    44976\n",
       "1    44976\n",
       "dtype: int64"
      ]
     },
     "execution_count": 162,
     "metadata": {},
     "output_type": "execute_result"
    }
   ],
   "source": [
    "# Let us look at what y_train looks like, and the value_counts()\n",
    "\n",
    "pd.DataFrame(y_train).value_counts()"
   ]
  },
  {
   "cell_type": "code",
   "execution_count": 163,
   "id": "e2caa911-0ecd-489b-b13f-62fd71e02b0b",
   "metadata": {},
   "outputs": [
    {
     "name": "stdout",
     "output_type": "stream",
     "text": [
      "(209430, 313)\n",
      "(89952, 313)\n",
      "(41886, 313)\n"
     ]
    }
   ],
   "source": [
    "print(X.shape)\n",
    "print(X_train.shape)\n",
    "print(X_test.shape)"
   ]
  },
  {
   "cell_type": "code",
   "execution_count": 164,
   "id": "2d2aef44-29d5-4d3b-99a5-ad118e79ce44",
   "metadata": {},
   "outputs": [],
   "source": [
    "from sklearn.model_selection import train_test_split\n",
    "import sklearn"
   ]
  },
  {
   "cell_type": "code",
   "execution_count": 165,
   "id": "3760fcae-68b8-4d66-8ea9-98bdbf7569d0",
   "metadata": {},
   "outputs": [],
   "source": [
    "#Standardizing the variables\n",
    "\n",
    "from sklearn.preprocessing import StandardScaler\n",
    "\n",
    "scale= StandardScaler()\n",
    "\n",
    "# standardization of dependent variables\n",
    "scaler = scale.fit(X_train)\n",
    "\n",
    "scaled_trainX = scaler.transform(X_train)\n",
    "scaled_testX = scaler.transform(X_test)"
   ]
  },
  {
   "cell_type": "code",
   "execution_count": 166,
   "id": "db220110-6571-459b-b80c-0d6a02c83022",
   "metadata": {},
   "outputs": [
    {
     "name": "stdout",
     "output_type": "stream",
     "text": [
      "CPU times: user 31min 43s, sys: 41.4 s, total: 32min 24s\n",
      "Wall time: 4min 33s\n"
     ]
    },
    {
     "data": {
      "text/plain": [
       "array([[0.66805907, 0.33194093],\n",
       "       [0.42331665, 0.57668335],\n",
       "       [0.26292177, 0.73707823],\n",
       "       ...,\n",
       "       [0.64371105, 0.35628895],\n",
       "       [0.65919686, 0.34080314],\n",
       "       [0.50026339, 0.49973661]])"
      ]
     },
     "execution_count": 166,
     "metadata": {},
     "output_type": "execute_result"
    }
   ],
   "source": [
    "%%time\n",
    "\n",
    "from sklearn.neural_network import MLPClassifier\n",
    "# Fit the model\n",
    "clf = MLPClassifier(activation='logistic', random_state=1, max_iter=200).fit(scaled_trainX, y_train)\n",
    "\n",
    "#Probability estimates\n",
    "prob = clf.predict_proba(scaled_testX)\n",
    "prob"
   ]
  },
  {
   "cell_type": "code",
   "execution_count": 167,
   "id": "d4fd4e99-11b5-4ac6-82b7-83f8da58a56f",
   "metadata": {},
   "outputs": [
    {
     "data": {
      "text/plain": [
       "array([0, 1, 1, ..., 0, 0, 0])"
      ]
     },
     "execution_count": 167,
     "metadata": {},
     "output_type": "execute_result"
    }
   ],
   "source": [
    "#Predict using the multi-layer perceptron classifier\n",
    "pred = clf.predict(scaled_testX)\n",
    "pred"
   ]
  },
  {
   "cell_type": "code",
   "execution_count": 168,
   "id": "b99a2ed8-2a82-4855-bb22-911a0c4a3073",
   "metadata": {},
   "outputs": [
    {
     "name": "stdout",
     "output_type": "stream",
     "text": [
      "Accuracy of Neural Network is: 61.89%\n"
     ]
    }
   ],
   "source": [
    "#Return the mean accuracy on the given test data and labels.\n",
    "accuracy = clf.score(scaled_testX, y_test)\n",
    "print(f\"Accuracy of Neural Network is: {accuracy*100:.2f}%\")"
   ]
  },
  {
   "cell_type": "code",
   "execution_count": 169,
   "id": "5d43a778-0f46-4267-a096-f13e3c70bbc8",
   "metadata": {},
   "outputs": [
    {
     "name": "stdout",
     "output_type": "stream",
     "text": [
      "              precision    recall  f1-score   support\n",
      "\n",
      "           0       0.90      0.58      0.71     32897\n",
      "           1       0.33      0.76      0.46      8989\n",
      "\n",
      "    accuracy                           0.62     41886\n",
      "   macro avg       0.61      0.67      0.58     41886\n",
      "weighted avg       0.78      0.62      0.65     41886\n",
      "\n"
     ]
    },
    {
     "data": {
      "image/png": "[encoded data removed]",
      "text/plain": [
       "<Figure size 432x288 with 2 Axes>"
      ]
     },
     "metadata": {
      "needs_background": "light"
     },
     "output_type": "display_data"
    }
   ],
   "source": [
    "# Check the classification report and the confusion matrix\n",
    "\n",
    "print(classification_report(y_true = y_test, y_pred = pred))\n",
    "\n",
    "cm = confusion_matrix(y_test, pred)\n",
    "ConfusionMatrixDisplay(confusion_matrix=cm).plot();"
   ]
  },
  {
   "cell_type": "code",
   "execution_count": 170,
   "id": "58991b7d-9c1b-4e2a-b317-59e59aed42c2",
   "metadata": {},
   "outputs": [],
   "source": [
    "# Cost when model predicts dispute and actually disputed\n",
    "True_NoDispute_Cost = 100 * cm[0, 0]\n",
    "\n",
    "# Cost when model predicts dispute and no actual dispute \n",
    "False_Dispute_Cost = 190 * cm[0,1]\n",
    "\n",
    "# Cost when model predicts NoDispute and actually disputed\n",
    "False_NoDispute_Cost = 600 * cm[1,0]\n",
    "\n",
    "# Cost when model predicts NoDispute correctly\n",
    "True_Dispute_Cost = 190 * cm[1,1]"
   ]
  },
  {
   "cell_type": "code",
   "execution_count": 171,
   "id": "e6bf24c2-66bf-4a8c-9eb3-12a7c7fbfbd8",
   "metadata": {},
   "outputs": [
    {
     "name": "stdout",
     "output_type": "stream",
     "text": [
      "Total_cost in Dollars before changing the threshold: 7127170\n"
     ]
    }
   ],
   "source": [
    "Total_cost = True_NoDispute_Cost + False_Dispute_Cost + False_NoDispute_Cost + True_Dispute_Cost\n",
    "print(f\"Total_cost in Dollars before changing the threshold: {Total_cost}\")"
   ]
  },
  {
   "cell_type": "code",
   "execution_count": 172,
   "id": "9094619d-b6a0-4beb-ab94-522e0d789111",
   "metadata": {},
   "outputs": [
    {
     "name": "stderr",
     "output_type": "stream",
     "text": [
      "100%|██████████| 100/100 [00:16<00:00,  6.12it/s]"
     ]
    },
    {
     "name": "stdout",
     "output_type": "stream",
     "text": [
      "CPU times: user 1min 36s, sys: 21.5 s, total: 1min 58s\n",
      "Wall time: 16.4 s\n"
     ]
    },
    {
     "name": "stderr",
     "output_type": "stream",
     "text": [
      "\n"
     ]
    },
    {
     "data": {
      "text/html": [
       "<div>\n",
       "<style scoped>\n",
       "    .dataframe tbody tr th:only-of-type {\n",
       "        vertical-align: middle;\n",
       "    }\n",
       "\n",
       "    .dataframe tbody tr th {\n",
       "        vertical-align: top;\n",
       "    }\n",
       "\n",
       "    .dataframe thead th {\n",
       "        text-align: right;\n",
       "    }\n",
       "</style>\n",
       "<table border=\"1\" class=\"dataframe\">\n",
       "  <thead>\n",
       "    <tr style=\"text-align: right;\">\n",
       "      <th></th>\n",
       "      <th>index</th>\n",
       "      <th>threshold</th>\n",
       "      <th>accuracy</th>\n",
       "      <th>precision</th>\n",
       "      <th>recall</th>\n",
       "      <th>True_NoDispute_Cost</th>\n",
       "      <th>False_Dispute_Cost</th>\n",
       "      <th>False_NoDispute_Cost</th>\n",
       "      <th>True_Dispute_Cost</th>\n",
       "      <th>Total_cost</th>\n",
       "    </tr>\n",
       "  </thead>\n",
       "  <tbody>\n",
       "    <tr>\n",
       "      <th>0</th>\n",
       "      <td>0</td>\n",
       "      <td>0.00</td>\n",
       "      <td>0.214606</td>\n",
       "      <td>0.214606</td>\n",
       "      <td>1.000000</td>\n",
       "      <td>0</td>\n",
       "      <td>6250430</td>\n",
       "      <td>0</td>\n",
       "      <td>1707910</td>\n",
       "      <td>7958340</td>\n",
       "    </tr>\n",
       "    <tr>\n",
       "      <th>1</th>\n",
       "      <td>0</td>\n",
       "      <td>0.01</td>\n",
       "      <td>0.229313</td>\n",
       "      <td>0.217810</td>\n",
       "      <td>1.000000</td>\n",
       "      <td>61600</td>\n",
       "      <td>6133390</td>\n",
       "      <td>0</td>\n",
       "      <td>1707910</td>\n",
       "      <td>7902900</td>\n",
       "    </tr>\n",
       "    <tr>\n",
       "      <th>2</th>\n",
       "      <td>0</td>\n",
       "      <td>0.02</td>\n",
       "      <td>0.239746</td>\n",
       "      <td>0.220086</td>\n",
       "      <td>0.999555</td>\n",
       "      <td>105700</td>\n",
       "      <td>6049600</td>\n",
       "      <td>2400</td>\n",
       "      <td>1707150</td>\n",
       "      <td>7864850</td>\n",
       "    </tr>\n",
       "    <tr>\n",
       "      <th>3</th>\n",
       "      <td>0</td>\n",
       "      <td>0.03</td>\n",
       "      <td>0.252113</td>\n",
       "      <td>0.222887</td>\n",
       "      <td>0.999333</td>\n",
       "      <td>157700</td>\n",
       "      <td>5950800</td>\n",
       "      <td>3600</td>\n",
       "      <td>1706770</td>\n",
       "      <td>7818870</td>\n",
       "    </tr>\n",
       "    <tr>\n",
       "      <th>4</th>\n",
       "      <td>0</td>\n",
       "      <td>0.04</td>\n",
       "      <td>0.262880</td>\n",
       "      <td>0.225368</td>\n",
       "      <td>0.998999</td>\n",
       "      <td>203100</td>\n",
       "      <td>5864540</td>\n",
       "      <td>5400</td>\n",
       "      <td>1706200</td>\n",
       "      <td>7779240</td>\n",
       "    </tr>\n",
       "    <tr>\n",
       "      <th>...</th>\n",
       "      <td>...</td>\n",
       "      <td>...</td>\n",
       "      <td>...</td>\n",
       "      <td>...</td>\n",
       "      <td>...</td>\n",
       "      <td>...</td>\n",
       "      <td>...</td>\n",
       "      <td>...</td>\n",
       "      <td>...</td>\n",
       "      <td>...</td>\n",
       "    </tr>\n",
       "    <tr>\n",
       "      <th>95</th>\n",
       "      <td>0</td>\n",
       "      <td>0.95</td>\n",
       "      <td>0.784821</td>\n",
       "      <td>0.492891</td>\n",
       "      <td>0.092558</td>\n",
       "      <td>3204100</td>\n",
       "      <td>162640</td>\n",
       "      <td>4894200</td>\n",
       "      <td>158080</td>\n",
       "      <td>8419020</td>\n",
       "    </tr>\n",
       "    <tr>\n",
       "      <th>96</th>\n",
       "      <td>0</td>\n",
       "      <td>0.96</td>\n",
       "      <td>0.784463</td>\n",
       "      <td>0.485818</td>\n",
       "      <td>0.074313</td>\n",
       "      <td>3219000</td>\n",
       "      <td>134330</td>\n",
       "      <td>4992600</td>\n",
       "      <td>126920</td>\n",
       "      <td>8472850</td>\n",
       "    </tr>\n",
       "    <tr>\n",
       "      <th>97</th>\n",
       "      <td>0</td>\n",
       "      <td>0.97</td>\n",
       "      <td>0.785418</td>\n",
       "      <td>0.500489</td>\n",
       "      <td>0.056959</td>\n",
       "      <td>3238600</td>\n",
       "      <td>97090</td>\n",
       "      <td>5086200</td>\n",
       "      <td>97280</td>\n",
       "      <td>8519170</td>\n",
       "    </tr>\n",
       "    <tr>\n",
       "      <th>98</th>\n",
       "      <td>0</td>\n",
       "      <td>0.98</td>\n",
       "      <td>0.785441</td>\n",
       "      <td>0.501397</td>\n",
       "      <td>0.039938</td>\n",
       "      <td>3254000</td>\n",
       "      <td>67830</td>\n",
       "      <td>5178000</td>\n",
       "      <td>68210</td>\n",
       "      <td>8568040</td>\n",
       "    </tr>\n",
       "    <tr>\n",
       "      <th>99</th>\n",
       "      <td>0</td>\n",
       "      <td>0.99</td>\n",
       "      <td>0.785752</td>\n",
       "      <td>0.520216</td>\n",
       "      <td>0.021471</td>\n",
       "      <td>3271900</td>\n",
       "      <td>33820</td>\n",
       "      <td>5277600</td>\n",
       "      <td>36670</td>\n",
       "      <td>8619990</td>\n",
       "    </tr>\n",
       "  </tbody>\n",
       "</table>\n",
       "<p>100 rows × 10 columns</p>\n",
       "</div>"
      ],
      "text/plain": [
       "    index  threshold  accuracy  precision    recall  True_NoDispute_Cost  \\\n",
       "0       0       0.00  0.214606   0.214606  1.000000                    0   \n",
       "1       0       0.01  0.229313   0.217810  1.000000                61600   \n",
       "2       0       0.02  0.239746   0.220086  0.999555               105700   \n",
       "3       0       0.03  0.252113   0.222887  0.999333               157700   \n",
       "4       0       0.04  0.262880   0.225368  0.998999               203100   \n",
       "..    ...        ...       ...        ...       ...                  ...   \n",
       "95      0       0.95  0.784821   0.492891  0.092558              3204100   \n",
       "96      0       0.96  0.784463   0.485818  0.074313              3219000   \n",
       "97      0       0.97  0.785418   0.500489  0.056959              3238600   \n",
       "98      0       0.98  0.785441   0.501397  0.039938              3254000   \n",
       "99      0       0.99  0.785752   0.520216  0.021471              3271900   \n",
       "\n",
       "    False_Dispute_Cost  False_NoDispute_Cost  True_Dispute_Cost  Total_cost  \n",
       "0              6250430                     0            1707910     7958340  \n",
       "1              6133390                     0            1707910     7902900  \n",
       "2              6049600                  2400            1707150     7864850  \n",
       "3              5950800                  3600            1706770     7818870  \n",
       "4              5864540                  5400            1706200     7779240  \n",
       "..                 ...                   ...                ...         ...  \n",
       "95              162640               4894200             158080     8419020  \n",
       "96              134330               4992600             126920     8472850  \n",
       "97               97090               5086200              97280     8519170  \n",
       "98               67830               5178000              68210     8568040  \n",
       "99               33820               5277600              36670     8619990  \n",
       "\n",
       "[100 rows x 10 columns]"
      ]
     },
     "execution_count": 172,
     "metadata": {},
     "output_type": "execute_result"
    }
   ],
   "source": [
    "%%time\n",
    "# Set threshold for identifying class 1\n",
    "threshold = 0.0001\n",
    "appended_data = []\n",
    "\n",
    "for threshold in tqdm(np.arange(0,1,.01)):\n",
    "    # Create predictions.  Note that predictions give us probabilities, not classes!\n",
    "    pred_prob = clf.predict_proba(scaled_testX)\n",
    "\n",
    "    # We drop the probabilities for class 0, and keep just the second column\n",
    "    pred_prob = pred_prob[:,1]\n",
    "\n",
    "    # Convert probabilities to 1s and 0s based on threshold\n",
    "    pred = (pred_prob>threshold).astype(int)\n",
    "\n",
    "    # confusion matrix\n",
    "    cm = confusion_matrix(y_test, pred)\n",
    "    \n",
    "    # accuracy score of the model\n",
    "    accuracy = accuracy_score(y_test, pred)\n",
    "    precision = precision_score(y_test, pred,zero_division=0)\n",
    "    recall = recall_score(y_test, pred)\n",
    "    \n",
    "    # Cost when model predicts dispute and actually disputed\n",
    "    True_NoDispute_Cost = 100 * cm[0, 0]\n",
    "\n",
    "    # Cost when model predicts dispute and no actual dispute \n",
    "    False_Dispute_Cost = 190 * cm[0,1]\n",
    "\n",
    "    # Cost when model predicts NoDispute and actually disputed\n",
    "    False_NoDispute_Cost = 600 * cm[1,0]\n",
    "\n",
    "    # Cost when model predicts NoDispute correctly\n",
    "    True_Dispute_Cost = 190 * cm[1,1]\n",
    "    \n",
    "    Total_cost = True_NoDispute_Cost + False_Dispute_Cost + False_NoDispute_Cost + True_Dispute_Cost\n",
    "    Total_cost\n",
    "    \n",
    "    data = pd.DataFrame({'threshold':[threshold], 'accuracy': [accuracy], \n",
    "                         'precision':[precision], 'recall':[recall],\n",
    "                         'True_NoDispute_Cost':[True_NoDispute_Cost], \n",
    "                         'False_Dispute_Cost':[False_Dispute_Cost], \n",
    "                         'False_NoDispute_Cost':[False_NoDispute_Cost],\n",
    "                         'True_Dispute_Cost':[True_Dispute_Cost],\n",
    "                         'Total_cost':[Total_cost]})\n",
    "    appended_data.append(data)\n",
    "    \n",
    "    \n",
    "\n",
    "appended_data = pd.concat(appended_data)    \n",
    "\n",
    "appended_data.reset_index()"
   ]
  },
  {
   "cell_type": "code",
   "execution_count": 173,
   "id": "a2c1d1f0-fc5d-4b4d-8c5e-9d4c2d30ce9c",
   "metadata": {},
   "outputs": [
    {
     "data": {
      "text/plain": [
       "<Axes: xlabel='threshold', ylabel='Total_cost'>"
      ]
     },
     "execution_count": 173,
     "metadata": {},
     "output_type": "execute_result"
    },
    {
     "data": {
      "image/png": "[encoded data removed]",
      "text/plain": [
       "<Figure size 432x288 with 1 Axes>"
      ]
     },
     "metadata": {
      "needs_background": "light"
     },
     "output_type": "display_data"
    }
   ],
   "source": [
    "# appended_data.to_excel('temp.xlsx')\n",
    "\n",
    "sns.scatterplot(data = appended_data, y = 'Total_cost', x = 'threshold')"
   ]
  },
  {
   "cell_type": "code",
   "execution_count": 174,
   "id": "378492b4-7e90-42a9-b43d-50bd9513c01e",
   "metadata": {},
   "outputs": [
    {
     "name": "stdout",
     "output_type": "stream",
     "text": [
      "                                0\n",
      "threshold                   0.430\n",
      "accuracy                    0.553\n",
      "precision                   0.307\n",
      "recall                      0.860\n",
      "True_NoDispute_Cost   1545200.000\n",
      "False_Dispute_Cost    3314550.000\n",
      "False_NoDispute_Cost   755400.000\n",
      "True_Dispute_Cost     1468700.000\n",
      "Total_cost            7083850.000\n"
     ]
    }
   ],
   "source": [
    "print(round(appended_data[appended_data.Total_cost == appended_data.Total_cost.min()].transpose(),3))"
   ]
  },
  {
   "attachments": {},
   "cell_type": "markdown",
   "id": "03d0f0cb-9da7-4c55-8f15-f0ab36a11206",
   "metadata": {},
   "source": [
    "So the minimum cost occurs at a threshold of 0.42, and the cost is $7.12 mm."
   ]
  },
  {
   "attachments": {},
   "cell_type": "markdown",
   "id": "23555e4c-26e1-413f-be95-3115d5ae87c3",
   "metadata": {},
   "source": [
    "## AUC and ROC calculation"
   ]
  },
  {
   "cell_type": "code",
   "execution_count": 175,
   "id": "8b155c49-55e4-46a7-841e-914cd42b591d",
   "metadata": {},
   "outputs": [
    {
     "data": {
      "text/plain": [
       "0.7351563713362121"
      ]
     },
     "execution_count": 175,
     "metadata": {},
     "output_type": "execute_result"
    }
   ],
   "source": [
    "# AUC calculation\n",
    "\n",
    "from sklearn import metrics\n",
    "\n",
    "metrics.roc_auc_score(y_test, pred_prob)"
   ]
  },
  {
   "cell_type": "code",
   "execution_count": 176,
   "id": "eb5f0fbb-b51f-4be0-b6d9-c85cc88493f7",
   "metadata": {},
   "outputs": [
    {
     "data": {
      "image/png": "[encoded data removed]",
      "text/plain": [
       "<Figure size 648x576 with 1 Axes>"
      ]
     },
     "metadata": {
      "needs_background": "light"
     },
     "output_type": "display_data"
    }
   ],
   "source": [
    "# Source for code below: https://stackoverflow.com/questions/25009284/how-to-plot-roc-curve-in-python\n",
    "\n",
    "fpr, tpr, thresholds = metrics.roc_curve(y_test, pred_prob)\n",
    "roc_auc = metrics.auc(fpr, tpr)\n",
    "plt.figure(figsize = (9,8))\n",
    "plt.title('Receiver Operating Characteristic')\n",
    "plt.plot(fpr, tpr, 'b', label = 'AUC = %0.2f' % roc_auc)\n",
    "plt.legend(loc = 'lower right')\n",
    "plt.plot([0, 1], [0, 1],'r--')\n",
    "plt.xlim([0, 1])\n",
    "plt.ylim([0, 1])\n",
    "plt.ylabel('True Positive Rate')\n",
    "plt.xlabel('False Positive Rate')\n",
    "plt.show()"
   ]
  },
  {
   "cell_type": "code",
   "execution_count": 177,
   "id": "4ba87f4c-4f58-4fae-82f3-8baddaee39b6",
   "metadata": {},
   "outputs": [
    {
     "data": {
      "text/html": [
       "<div>\n",
       "<style scoped>\n",
       "    .dataframe tbody tr th:only-of-type {\n",
       "        vertical-align: middle;\n",
       "    }\n",
       "\n",
       "    .dataframe tbody tr th {\n",
       "        vertical-align: top;\n",
       "    }\n",
       "\n",
       "    .dataframe thead th {\n",
       "        text-align: right;\n",
       "    }\n",
       "</style>\n",
       "<table border=\"1\" class=\"dataframe\">\n",
       "  <thead>\n",
       "    <tr style=\"text-align: right;\">\n",
       "      <th></th>\n",
       "      <th>TPR</th>\n",
       "      <th>FPR</th>\n",
       "      <th>Threshold</th>\n",
       "    </tr>\n",
       "  </thead>\n",
       "  <tbody>\n",
       "    <tr>\n",
       "      <th>0</th>\n",
       "      <td>1.000000</td>\n",
       "      <td>1.000000</td>\n",
       "      <td>8.962198e-07</td>\n",
       "    </tr>\n",
       "    <tr>\n",
       "      <th>1</th>\n",
       "      <td>1.000000</td>\n",
       "      <td>0.999939</td>\n",
       "      <td>3.231176e-06</td>\n",
       "    </tr>\n",
       "    <tr>\n",
       "      <th>2</th>\n",
       "      <td>1.000000</td>\n",
       "      <td>0.999878</td>\n",
       "      <td>4.806555e-06</td>\n",
       "    </tr>\n",
       "    <tr>\n",
       "      <th>3</th>\n",
       "      <td>1.000000</td>\n",
       "      <td>0.997933</td>\n",
       "      <td>3.670212e-04</td>\n",
       "    </tr>\n",
       "    <tr>\n",
       "      <th>4</th>\n",
       "      <td>1.000000</td>\n",
       "      <td>0.997872</td>\n",
       "      <td>3.726859e-04</td>\n",
       "    </tr>\n",
       "    <tr>\n",
       "      <th>...</th>\n",
       "      <td>...</td>\n",
       "      <td>...</td>\n",
       "      <td>...</td>\n",
       "    </tr>\n",
       "    <tr>\n",
       "      <th>13685</th>\n",
       "      <td>0.000445</td>\n",
       "      <td>0.000061</td>\n",
       "      <td>9.999882e-01</td>\n",
       "    </tr>\n",
       "    <tr>\n",
       "      <th>13686</th>\n",
       "      <td>0.000445</td>\n",
       "      <td>0.000030</td>\n",
       "      <td>9.999894e-01</td>\n",
       "    </tr>\n",
       "    <tr>\n",
       "      <th>13687</th>\n",
       "      <td>0.000111</td>\n",
       "      <td>0.000030</td>\n",
       "      <td>9.999979e-01</td>\n",
       "    </tr>\n",
       "    <tr>\n",
       "      <th>13688</th>\n",
       "      <td>0.000111</td>\n",
       "      <td>0.000000</td>\n",
       "      <td>9.999985e-01</td>\n",
       "    </tr>\n",
       "    <tr>\n",
       "      <th>13689</th>\n",
       "      <td>0.000000</td>\n",
       "      <td>0.000000</td>\n",
       "      <td>1.999998e+00</td>\n",
       "    </tr>\n",
       "  </tbody>\n",
       "</table>\n",
       "<p>13690 rows × 3 columns</p>\n",
       "</div>"
      ],
      "text/plain": [
       "            TPR       FPR     Threshold\n",
       "0      1.000000  1.000000  8.962198e-07\n",
       "1      1.000000  0.999939  3.231176e-06\n",
       "2      1.000000  0.999878  4.806555e-06\n",
       "3      1.000000  0.997933  3.670212e-04\n",
       "4      1.000000  0.997872  3.726859e-04\n",
       "...         ...       ...           ...\n",
       "13685  0.000445  0.000061  9.999882e-01\n",
       "13686  0.000445  0.000030  9.999894e-01\n",
       "13687  0.000111  0.000030  9.999979e-01\n",
       "13688  0.000111  0.000000  9.999985e-01\n",
       "13689  0.000000  0.000000  1.999998e+00\n",
       "\n",
       "[13690 rows x 3 columns]"
      ]
     },
     "execution_count": 177,
     "metadata": {},
     "output_type": "execute_result"
    }
   ],
   "source": [
    "pd.DataFrame({'TPR': tpr, 'FPR': fpr, 'Threshold': thresholds}).sort_values(by = ['Threshold']).reset_index(drop=True)"
   ]
  },
  {
   "attachments": {},
   "cell_type": "markdown",
   "id": "6b0b0580-bf6b-48b9-81ab-fd7ea7f1aab1",
   "metadata": {},
   "source": [
    "The higher the AUC, the better the performance of the model at distinguishing between the positive and negative classes."
   ]
  }
 ],
 "metadata": {
  "kernelspec": {
   "display_name": "Python 3 (ipykernel)",
   "language": "python",
   "name": "python3"
  },
  "language_info": {
   "codemirror_mode": {
    "name": "ipython",
    "version": 3
   },
   "file_extension": ".py",
   "mimetype": "text/x-python",
   "name": "python",
   "nbconvert_exporter": "python",
   "pygments_lexer": "ipython3",
   "version": "3.9.7"
  }
 },
 "nbformat": 4,
 "nbformat_minor": 5
}
